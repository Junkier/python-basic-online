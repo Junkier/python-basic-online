{
 "cells": [
  {
   "cell_type": "code",
   "execution_count": 5,
   "id": "2f2a49b8",
   "metadata": {},
   "outputs": [
    {
     "name": "stdout",
     "output_type": "stream",
     "text": [
      "a : 3\n",
      "b : 5\n",
      "a : 100\n",
      "b : -20\n",
      "8\n",
      "80\n",
      "--------------------------------------------------------------------------------\n",
      "a : -17\n",
      "b : 33\n",
      "16\n"
     ]
    }
   ],
   "source": [
    "### 函式 (function)\n",
    "# function-1\n",
    "\n",
    "# 定義 function \n",
    "def add(a,b):  # a,b -> 輸入參數\n",
    "    print(\"a :\",a)\n",
    "    print(\"b :\",b)\n",
    "    result = a+b\n",
    "    \n",
    "    # 回傳運算結果  -> 輸出結果\n",
    "    return result \n",
    "\n",
    "\n",
    "# 呼叫(使用) function \n",
    "data1 = add(3,5)\n",
    "data2 = add(100,-20)\n",
    "print(data1)\n",
    "print(data2)\n",
    "\n",
    "print(\"-\"*80)\n",
    "\n",
    "print( add(-17,33) )  # 先執行 add(-17,33) -> print( 16 )"
   ]
  },
  {
   "cell_type": "code",
   "execution_count": 9,
   "id": "b5ed575e",
   "metadata": {},
   "outputs": [
    {
     "name": "stdout",
     "output_type": "stream",
     "text": [
      "[8, -2, 15, 0.6]\n",
      "[35, -39, -74, -0.05405405405405406]\n",
      "[33, -11, 242, 0.5]\n",
      "--------------------------------------------------------------------------------\n",
      "嗨嗨, 我是 Jeff\n",
      "!!!\n",
      "嗨嗨, 我是 Leo ~~~\n",
      "!!!\n",
      "嗨嗨, 我是 Yuni\n",
      "!!!\n"
     ]
    }
   ],
   "source": [
    "# function-2\n",
    "\n",
    "# 計算兩個數字 加/減/乘/除\n",
    "# 定義 function\n",
    "def calculate(x,y):\n",
    "    add = x+y\n",
    "    diff = x-y\n",
    "    multiply = x*y\n",
    "    divide = x/y\n",
    "    \n",
    "    return [add , diff , multiply , divide]\n",
    "    \n",
    "\n",
    "# 呼叫(使用) function\n",
    "result1 = calculate(3,5)\n",
    "result2 = calculate(-2,37)\n",
    "result3 = calculate(11,22)\n",
    "print(result1)\n",
    "print(result2)\n",
    "print(result3)\n",
    "\n",
    "print(\"-\"*80)\n",
    "\n",
    "def say_hello(name):\n",
    "    print(f\"嗨嗨, 我是 {name}\")\n",
    "    print(\"!!!\")\n",
    "    \n",
    "\n",
    "say_hello(\"Jeff\")\n",
    "say_hello(\"Leo ~~~\")\n",
    "say_hello(\"Yuni\")"
   ]
  },
  {
   "cell_type": "code",
   "execution_count": 13,
   "id": "7d3efd7d",
   "metadata": {},
   "outputs": [
    {
     "name": "stdout",
     "output_type": "stream",
     "text": [
      "--- 開始執行 test_func ---\n",
      "Jeff\n",
      "Age : 18\n",
      "Remark : 嗨嗨~~~\n",
      "--- test_func 結束 ---\n",
      "--- 開始執行 test_func ---\n",
      "Leo\n",
      "Age : 22\n",
      "Remark : 好熱～～\n",
      "--- test_func 結束 ---\n",
      "result4 : Done.\n",
      "result5 : Done.\n"
     ]
    }
   ],
   "source": [
    "# function-3\n",
    "# 定義 function \n",
    "def test_func(name,age,remark = \"嗨嗨~~~\"):\n",
    "    print(\"--- 開始執行 test_func ---\")\n",
    "    print(name)\n",
    "    print(f\"Age : {age}\")\n",
    "    print(f\"Remark : {remark}\")\n",
    "    print(\"--- test_func 結束 ---\")\n",
    "    return \"Done.\"\n",
    "\n",
    "\n",
    "# 呼叫(使用) function\n",
    "result4 = test_func(\"Jeff\",18)\n",
    "result5 = test_func(\"Leo\",22,\"好熱～～\")\n",
    "\n",
    "print(\"result4 :\", result4)\n",
    "print(\"result5 :\", result5)"
   ]
  },
  {
   "cell_type": "code",
   "execution_count": 14,
   "id": "86ac25e8",
   "metadata": {},
   "outputs": [
    {
     "name": "stdout",
     "output_type": "stream",
     "text": [
      "Math sum: 477\n",
      "Math avg: 95.4\n",
      "Math max: 100\n",
      "--------------------------------------------------------------------------------\n",
      "Eng sum: 364\n",
      "Eng avg: 72.8\n",
      "Eng max: 87\n",
      "--------------------------------------------------------------------------------\n",
      "Chinese sum: 244\n",
      "Chinese avg: 48.8\n",
      "Chinese max: 95\n"
     ]
    }
   ],
   "source": [
    "# 求 Math / Eng / Chinese 總和 , 平均 , 最大值 \n",
    "math = [87,100,97,99,94]\n",
    "eng = [78,86,47,87,66]\n",
    "chinese = [10,95,61,53,25]\n",
    "\n",
    "print(f\"Math sum: { sum(math) }\")\n",
    "print(f\"Math avg: { sum(math) / len(math) }\")\n",
    "print(f\"Math max: { max(math) }\")\n",
    "\n",
    "print(\"-\"*80)\n",
    "    \n",
    "print(f\"Eng sum: { sum(eng) }\")\n",
    "print(f\"Eng avg: { sum(eng) / len(eng) }\")\n",
    "print(f\"Eng max: { max(eng) }\")\n",
    "\n",
    "print(\"-\"*80)\n",
    "\n",
    "print(f\"Chinese sum: { sum(chinese) }\")\n",
    "print(f\"Chinese avg: { sum(chinese) / len(chinese) }\")\n",
    "print(f\"Chinese max: { max(chinese) }\")"
   ]
  },
  {
   "cell_type": "code",
   "execution_count": 20,
   "id": "4a9e3d07",
   "metadata": {},
   "outputs": [
    {
     "name": "stdout",
     "output_type": "stream",
     "text": [
      "name : Math\n",
      "scores : [87, 100, 97, 99, 94]\n",
      "Math sum: 477\n",
      "Math avg: 95.4\n",
      "Math max: 100\n",
      "Math min: 87\n",
      "--------------------------------------------------------------------------------\n",
      "name : English\n",
      "scores : [78, 86, 47, 87, 66]\n",
      "English sum: 364\n",
      "English avg: 72.8\n",
      "English max: 87\n",
      "English min: 47\n",
      "--------------------------------------------------------------------------------\n",
      "name : Chinese\n",
      "scores : [10, 95, 61, 53, 25]\n",
      "Chinese sum: 244\n",
      "Chinese avg: 48.8\n",
      "Chinese max: 95\n",
      "Chinese min: 10\n",
      "--------------------------------------------------------------------------------\n",
      "name : Science\n",
      "scores : [99, 80, 77, 12, 100]\n",
      "Science sum: 368\n",
      "Science avg: 73.6\n",
      "Science max: 100\n",
      "Science min: 12\n"
     ]
    }
   ],
   "source": [
    "# function-4\n",
    "math = [87,100,97,99,94]\n",
    "eng = [78,86,47,87,66]\n",
    "chinese = [10,95,61,53,25]\n",
    "science = [99,80,77,12,100]\n",
    "\n",
    "# name -> 科目名稱 ; scores -> 成績的 list\n",
    "def get_scores_info(name , scores):\n",
    "    print(f\"name : {name}\")\n",
    "    print(f\"scores : {scores}\")\n",
    "    print(f\"{name} sum: { sum(scores) }\")\n",
    "    print(f\"{name} avg: { sum(scores) / len(scores) }\")\n",
    "    print(f\"{name} max: { max(scores) }\")\n",
    "    print(f\"{name} min: { min(scores) }\")\n",
    "\n",
    "get_scores_info(\"Math\" , math)\n",
    "print(\"-\"*80)\n",
    "get_scores_info(\"English\", eng)\n",
    "print(\"-\"*80)\n",
    "get_scores_info(\"Chinese\", chinese)\n",
    "print(\"-\"*80)\n",
    "get_scores_info(\"Science\", science)"
   ]
  },
  {
   "cell_type": "code",
   "execution_count": 22,
   "id": "37a5f91b",
   "metadata": {},
   "outputs": [
    {
     "name": "stdout",
     "output_type": "stream",
     "text": [
      "我是 say_hello\n",
      "嗨嗨, 我是 Jeff\n",
      "r1 : None\n",
      "我是 say_hello_with_return\n",
      "嗨嗨, 我是 Jeff\n",
      "r2 : 今天星期五 !!!\n"
     ]
    }
   ],
   "source": [
    "# function-5 小觀念\n",
    "# 1) 有 return / 沒有 return 差別\n",
    "\n",
    "def say_hello(name):\n",
    "    print(\"我是 say_hello\")\n",
    "    print(f\"嗨嗨, 我是 {name}\")\n",
    "    \n",
    "def say_hello_with_return(name):\n",
    "    print(\"我是 say_hello_with_return\")\n",
    "    print(f\"嗨嗨, 我是 {name}\")\n",
    "    return \"今天星期五 !!!\"\n",
    "\n",
    "\n",
    "# say_hello(\"Jeff\")\n",
    "# say_hello_with_return(\"Jeff\")\n",
    "\n",
    "# r1 = say_hello(\"Jeff\")\n",
    "# print(\"r1 :\" , r1)\n",
    "# r2 = say_hello_with_return(\"Jeff\")\n",
    "# print(\"r2 :\" , r2)\n",
    "\n",
    "## 沒有 return 的 function -> 不需 變數 接住\n",
    "say_hello(\"Jeff\")\n",
    "\n",
    "## 有 return 的 function -> 需要 變數 接住結果\n",
    "r2 = say_hello_with_return(\"Jeff\")\n",
    "print(\"r2 :\" , r2)"
   ]
  },
  {
   "cell_type": "code",
   "execution_count": 27,
   "id": "289c3580",
   "metadata": {},
   "outputs": [
    {
     "name": "stdout",
     "output_type": "stream",
     "text": [
      "Math result : {'total': 477, 'avg': 95.4}\n"
     ]
    },
    {
     "ename": "NameError",
     "evalue": "name 'testqq' is not defined",
     "output_type": "error",
     "traceback": [
      "\u001b[0;31m---------------------------------------------------------------------------\u001b[0m",
      "\u001b[0;31mNameError\u001b[0m                                 Traceback (most recent call last)",
      "\u001b[0;32m/var/folders/xf/699gcn4x1zqf0z8db2w02pq40000gn/T/ipykernel_80284/2320026966.py\u001b[0m in \u001b[0;36m<module>\u001b[0;34m\u001b[0m\n\u001b[1;32m     16\u001b[0m \u001b[0mprint\u001b[0m\u001b[0;34m(\u001b[0m\u001b[0;34mf\"Math result : {math_result}\"\u001b[0m\u001b[0;34m)\u001b[0m\u001b[0;34m\u001b[0m\u001b[0;34m\u001b[0m\u001b[0m\n\u001b[1;32m     17\u001b[0m \u001b[0;34m\u001b[0m\u001b[0m\n\u001b[0;32m---> 18\u001b[0;31m \u001b[0mprint\u001b[0m\u001b[0;34m(\u001b[0m\u001b[0mtestqq\u001b[0m\u001b[0;34m)\u001b[0m\u001b[0;34m\u001b[0m\u001b[0;34m\u001b[0m\u001b[0m\n\u001b[0m\u001b[1;32m     19\u001b[0m \u001b[0;31m# print(total)\u001b[0m\u001b[0;34m\u001b[0m\u001b[0;34m\u001b[0m\u001b[0;34m\u001b[0m\u001b[0m\n\u001b[1;32m     20\u001b[0m \u001b[0;31m# print(avg)\u001b[0m\u001b[0;34m\u001b[0m\u001b[0;34m\u001b[0m\u001b[0;34m\u001b[0m\u001b[0m\n",
      "\u001b[0;31mNameError\u001b[0m: name 'testqq' is not defined"
     ]
    }
   ],
   "source": [
    "# 2) function 內的變數為「區域變數」\n",
    "math = [87,100,97,99,94]\n",
    "eng = [78,86,47,87,66]\n",
    "chinese = [10,95,61,53,25]\n",
    "\n",
    "def get_scores_info(scores):\n",
    "    total = sum(scores)\n",
    "    avg = sum(scores) / len(scores)\n",
    "    testqq = 123   ## testqq 為 區域變數 -> 只在 function 裡面看得到 , function 結束 即消失 !!!\n",
    "    return {\n",
    "        \"total\" : total,\n",
    "        \"avg\"   : avg\n",
    "    }\n",
    "\n",
    "math_result = get_scores_info(math)\n",
    "print(f\"Math result : {math_result}\")\n",
    "\n",
    "# print(testqq)\n",
    "# print(total)\n",
    "# print(avg)\n",
    "\n",
    "eng_result = get_scores_info(eng)\n",
    "print(f\"Eng result : {eng_result}\")\n",
    "\n",
    "chinese_result = get_scores_info(chinese)\n",
    "print(f\"Chinese result : {chinese_result}\")"
   ]
  },
  {
   "cell_type": "code",
   "execution_count": 33,
   "id": "f050b7b9",
   "metadata": {},
   "outputs": [
    {
     "name": "stdout",
     "output_type": "stream",
     "text": [
      "Avg : 95.4\n",
      "Math : [100, 97, 99]\n",
      "Avg : 72.8\n",
      "Eng : [78, 86, 87]\n",
      "Avg : 48.8\n",
      "Chinese : [95, 61, 53]\n"
     ]
    }
   ],
   "source": [
    "# 3) function 內 , 可以呼叫其他 function \n",
    "math = [87,100,97,99,94]\n",
    "eng = [78,86,47,87,66]\n",
    "chinese = [10,95,61,53,25]\n",
    "\n",
    "def get_scores_info(scores):\n",
    "    total = sum(scores)\n",
    "    avg = sum(scores) / len(scores)\n",
    "    return {\n",
    "        \"total\" : total,\n",
    "        \"avg\"   : avg\n",
    "    }\n",
    "\n",
    "## 取得 超過平均的 分數\n",
    "def get_passed_scores(scores):\n",
    "    \n",
    "    # 1. 取得平均分數\n",
    "    scores_info = get_scores_info(scores)\n",
    "    \n",
    "    print(f'Avg : {scores_info[\"avg\"]}')\n",
    "    \n",
    "    # 2. 抓出比平均分數大的數字, 放入 list 裡面\n",
    "    # 此時 scores  為 list , ex: [87,100,97,99,94]\n",
    "    # scores_info 為 dict , ex: {\"total\" : 477 , \"avg\" : 95.4 }\n",
    "    data = []\n",
    "    for num in scores:\n",
    "        if num >= scores_info[\"avg\"]:\n",
    "            data.append(num)\n",
    "    \n",
    "    # 3. return 該 list \n",
    "    return data\n",
    "    \n",
    "\n",
    "math_passed_scores = get_passed_scores(math)\n",
    "print(f\"Math : {math_passed_scores}\")\n",
    "\n",
    "eng_passed_scores = get_passed_scores(eng)\n",
    "print(f\"Eng : {eng_passed_scores}\")\n",
    "\n",
    "chinese_passed_scores = get_passed_scores(chinese)\n",
    "print(f\"Chinese : {chinese_passed_scores}\")"
   ]
  },
  {
   "cell_type": "code",
   "execution_count": 41,
   "id": "1d422db2",
   "metadata": {},
   "outputs": [
    {
     "name": "stdout",
     "output_type": "stream",
     "text": [
      "[7, 9, 19, 23, 32, 34]\n",
      "[126, 230, 413, 432, 474, 527, 643, 697, 713, 719, 951]\n",
      "[7, 11, 12, 17, 20, 21, 23, 26, 27, 29, 32, 39, 43, 47, 51, 56, 64, 66, 70, 74, 76, 79, 83, 86, 87, 91, 92, 95, 97, 98]\n"
     ]
    }
   ],
   "source": [
    "### 大樂透 01~49 \n",
    "## 1) 不重複地抽 N 個號碼\n",
    "## 2) 號碼範圍可以自選\n",
    "import random\n",
    "\n",
    "def get_rand_num(n,start=1 , end=49):\n",
    "    result = []\n",
    "    \n",
    "    while len(result) < n:\n",
    "        num = random.randint(start,end)\n",
    "        if num not in result:\n",
    "            result.append(num)\n",
    "    \n",
    "    return sorted(result)\n",
    "\n",
    "data = get_rand_num(6)\n",
    "print(data)\n",
    "\n",
    "data2 = get_rand_num(11,100,999)\n",
    "print(data2)\n",
    "\n",
    "data3 = get_rand_num(30,1,100)\n",
    "print(data3)"
   ]
  },
  {
   "cell_type": "code",
   "execution_count": 47,
   "id": "c20877a9",
   "metadata": {},
   "outputs": [
    {
     "name": "stdout",
     "output_type": "stream",
     "text": [
      "請輸入數字1 :12\n",
      "請輸入數字2 :34\n",
      "總和 : 46.0\n",
      "平均 : 23.0\n"
     ]
    }
   ],
   "source": [
    "### 小試身手\n",
    "# 1.  設計一 func , 可以讓使用者輸入兩數字 (float), \n",
    "#     並計算兩數的總合及平均\n",
    "\n",
    "def answer1():\n",
    "    num1 = float(input(\"請輸入數字1 :\"))\n",
    "    num2 = float(input(\"請輸入數字2 :\"))\n",
    "    \n",
    "    print(f\"總和 : {num1 + num2 }\")\n",
    "    print(f\"平均 : {(num1+num2)/2 }\")\n",
    "    \n",
    "answer1()"
   ]
  },
  {
   "cell_type": "code",
   "execution_count": 53,
   "id": "543b5d62",
   "metadata": {},
   "outputs": [
    {
     "name": "stdout",
     "output_type": "stream",
     "text": [
      "5050\n"
     ]
    }
   ],
   "source": [
    "# 2.  設計一 func , 可回傳 1+2+3+…+n 的值 , \n",
    "#      其中 n 為輸入參數 (int)\n",
    "\n",
    "def answer2(n):\n",
    "    # for-loop 解法\n",
    "#     total = 0\n",
    "#     for i in range(1,n+1):\n",
    "#         total += i \n",
    "#         # total = total + i\n",
    "#     return total\n",
    "\n",
    "    # range 解法\n",
    "    return sum( range(1,n+1)  )\n",
    "    \n",
    "print( answer2(100) )"
   ]
  },
  {
   "cell_type": "code",
   "execution_count": 72,
   "id": "3b37ba95",
   "metadata": {},
   "outputs": [
    {
     "name": "stdout",
     "output_type": "stream",
     "text": [
      "[*] word must be str.\n",
      "EDCBA\n",
      "~~ koob a si sihT\n",
      "～啊冷好面外 ,五拜禮天今\n"
     ]
    }
   ],
   "source": [
    "# 3.  設計一 func , 功能如下：\n",
    "#     1) word 為輸入參數 , 必須為字串(str) , 若不為字串\n",
    "#        則顯示訊息 “[*] word must be str.” \n",
    "#     2) 若為字串, 將 word 字串反轉後回傳\n",
    "\n",
    "## 期望: answer3(\"ABCDE\") -> \"EDCBA\"\n",
    "\n",
    "def answer3(word):\n",
    "    ### if 漂亮！！！\n",
    "    if type(word) != str:\n",
    "        print(\"[*] word must be str.\")\n",
    "        return\n",
    "    \n",
    "    return word[::-1]\n",
    "    \n",
    "    ### if-else 較不漂亮\n",
    "#     if type(word) != str:\n",
    "#         print(\"[*] word must be str.\")\n",
    "#     else:\n",
    "#         # str 解法\n",
    "#         return word[::-1]\n",
    "        \n",
    "        # for-loop 解法\n",
    "#         message = \"\"\n",
    "        \n",
    "#         for w in word:\n",
    "#             message = w + message\n",
    "#             # message = message + w \n",
    "#             # print(w)\n",
    "        \n",
    "#         return message \n",
    "\n",
    "answer3(12345)\n",
    "        \n",
    "result3 = answer3(\"ABCDE\")  \n",
    "print(result3)\n",
    "\n",
    "result4 = answer3(\"This is a book ~~\")\n",
    "print(result4)\n",
    "\n",
    "result5 = answer3(\"今天禮拜五, 外面好冷啊～\")\n",
    "print(result5)"
   ]
  },
  {
   "cell_type": "code",
   "execution_count": 69,
   "id": "19282fab",
   "metadata": {},
   "outputs": [
    {
     "name": "stdout",
     "output_type": "stream",
     "text": [
      "<class 'str'>\n",
      "True\n",
      "False\n",
      "False\n",
      "--------------------------------------------------------------------------------\n",
      "!!! elppa a si sihT\n",
      "s is\n",
      "Thi\n",
      " al!\n",
      "!!epaas iT\n"
     ]
    }
   ],
   "source": [
    "### [補充] 用 type 檢查是否為字串\n",
    "print(type(\"Jeff\"))\n",
    "print(type(\"Jeff\") == str)\n",
    "print(type(\"Jeff\") == float)\n",
    "print(type(12345) == str)\n",
    "\n",
    "print(\"-\"*80)\n",
    "\n",
    "### [補充2] word[::-1] -> 字串反轉\n",
    "message2 = \"This is a apple !!!\"\n",
    "print( message2[::-1] )\n",
    "\n",
    "# message2[start:end:step]\n",
    "# start -> 起點\n",
    "# end   -> 終點\n",
    "# step  -> 相隔幾個字元\n",
    "\n",
    "print(message2[3:7])\n",
    "print(message2[:3])\n",
    "print(message2[7::3])\n",
    "print(message2[::-2])\n"
   ]
  },
  {
   "cell_type": "code",
   "execution_count": 84,
   "id": "ffba95b9",
   "metadata": {},
   "outputs": [
    {
     "name": "stdout",
     "output_type": "stream",
     "text": [
      "2\n"
     ]
    }
   ],
   "source": [
    "# 4. 費氏數列為 1,1,2,3,5,8,13,21,… \n",
    "#     試設計一 func , 輸入為 n , 回傳第 n 項費氏數列之值\n",
    "## 解法:\n",
    "## 1) for-loop \n",
    "## 2) recursive \n",
    "## 3) dynamic programming (dp)\n",
    "\n",
    "def fibonacci(n):\n",
    "    # n 為 1 or 2 的處理\n",
    "    if n == 1 or n == 2:\n",
    "        return 1\n",
    "    \n",
    "    # n > 2 的處理\n",
    "    # 以 n=5 為例 , 計算 3 次 -> range(1,4)\n",
    "    # 以 n=7 為例 , 計算 5 次 -> range(1,6)\n",
    "    # ...\n",
    "    # 以 n=n 為例 , 計算 n-2 次 -> range(1,n-1)\n",
    "    r = 0\n",
    "    a1 = 1\n",
    "    a2 = 1\n",
    "    for i in range(1,n-1):\n",
    "        r = a1 + a2   # 得到新的 r 值\n",
    "        a1 = a2       # 將舊的 a2 值 傳給 a1 \n",
    "        a2 = r        # 將舊的 r 值 傳給 a2    \n",
    "        \n",
    "    return r\n",
    "        \n",
    "print( fibonacci(3) )"
   ]
  },
  {
   "cell_type": "code",
   "execution_count": 86,
   "id": "72bc6adf",
   "metadata": {
    "scrolled": true
   },
   "outputs": [
    {
     "name": "stdout",
     "output_type": "stream",
     "text": [
      "第 1 項費氏數列值為 : 1\n",
      "第 2 項費氏數列值為 : 1\n",
      "第 3 項費氏數列值為 : 2\n",
      "第 4 項費氏數列值為 : 3\n",
      "第 5 項費氏數列值為 : 5\n",
      "第 6 項費氏數列值為 : 8\n",
      "第 7 項費氏數列值為 : 13\n",
      "第 8 項費氏數列值為 : 21\n",
      "第 9 項費氏數列值為 : 34\n",
      "第 10 項費氏數列值為 : 55\n",
      "第 11 項費氏數列值為 : 89\n",
      "第 12 項費氏數列值為 : 144\n",
      "第 13 項費氏數列值為 : 233\n",
      "第 14 項費氏數列值為 : 377\n",
      "第 15 項費氏數列值為 : 610\n",
      "第 16 項費氏數列值為 : 987\n",
      "第 17 項費氏數列值為 : 1597\n",
      "第 18 項費氏數列值為 : 2584\n",
      "第 19 項費氏數列值為 : 4181\n",
      "第 20 項費氏數列值為 : 6765\n",
      "第 21 項費氏數列值為 : 10946\n",
      "第 22 項費氏數列值為 : 17711\n",
      "第 23 項費氏數列值為 : 28657\n",
      "第 24 項費氏數列值為 : 46368\n",
      "第 25 項費氏數列值為 : 75025\n",
      "第 26 項費氏數列值為 : 121393\n",
      "第 27 項費氏數列值為 : 196418\n",
      "第 28 項費氏數列值為 : 317811\n",
      "第 29 項費氏數列值為 : 514229\n",
      "第 30 項費氏數列值為 : 832040\n",
      "第 31 項費氏數列值為 : 1346269\n",
      "第 32 項費氏數列值為 : 2178309\n",
      "第 33 項費氏數列值為 : 3524578\n",
      "第 34 項費氏數列值為 : 5702887\n",
      "第 35 項費氏數列值為 : 9227465\n",
      "第 36 項費氏數列值為 : 14930352\n",
      "第 37 項費氏數列值為 : 24157817\n",
      "第 38 項費氏數列值為 : 39088169\n",
      "第 39 項費氏數列值為 : 63245986\n",
      "第 40 項費氏數列值為 : 102334155\n",
      "第 41 項費氏數列值為 : 165580141\n",
      "第 42 項費氏數列值為 : 267914296\n",
      "第 43 項費氏數列值為 : 433494437\n",
      "第 44 項費氏數列值為 : 701408733\n",
      "第 45 項費氏數列值為 : 1134903170\n",
      "第 46 項費氏數列值為 : 1836311903\n",
      "第 47 項費氏數列值為 : 2971215073\n",
      "第 48 項費氏數列值為 : 4807526976\n",
      "第 49 項費氏數列值為 : 7778742049\n",
      "第 50 項費氏數列值為 : 12586269025\n",
      "第 51 項費氏數列值為 : 20365011074\n",
      "第 52 項費氏數列值為 : 32951280099\n",
      "第 53 項費氏數列值為 : 53316291173\n",
      "第 54 項費氏數列值為 : 86267571272\n",
      "第 55 項費氏數列值為 : 139583862445\n",
      "第 56 項費氏數列值為 : 225851433717\n",
      "第 57 項費氏數列值為 : 365435296162\n",
      "第 58 項費氏數列值為 : 591286729879\n",
      "第 59 項費氏數列值為 : 956722026041\n",
      "第 60 項費氏數列值為 : 1548008755920\n",
      "第 61 項費氏數列值為 : 2504730781961\n",
      "第 62 項費氏數列值為 : 4052739537881\n",
      "第 63 項費氏數列值為 : 6557470319842\n",
      "第 64 項費氏數列值為 : 10610209857723\n",
      "第 65 項費氏數列值為 : 17167680177565\n",
      "第 66 項費氏數列值為 : 27777890035288\n",
      "第 67 項費氏數列值為 : 44945570212853\n",
      "第 68 項費氏數列值為 : 72723460248141\n",
      "第 69 項費氏數列值為 : 117669030460994\n",
      "第 70 項費氏數列值為 : 190392490709135\n",
      "第 71 項費氏數列值為 : 308061521170129\n",
      "第 72 項費氏數列值為 : 498454011879264\n",
      "第 73 項費氏數列值為 : 806515533049393\n",
      "第 74 項費氏數列值為 : 1304969544928657\n",
      "第 75 項費氏數列值為 : 2111485077978050\n",
      "第 76 項費氏數列值為 : 3416454622906707\n",
      "第 77 項費氏數列值為 : 5527939700884757\n",
      "第 78 項費氏數列值為 : 8944394323791464\n",
      "第 79 項費氏數列值為 : 14472334024676221\n",
      "第 80 項費氏數列值為 : 23416728348467685\n",
      "第 81 項費氏數列值為 : 37889062373143906\n",
      "第 82 項費氏數列值為 : 61305790721611591\n",
      "第 83 項費氏數列值為 : 99194853094755497\n",
      "第 84 項費氏數列值為 : 160500643816367088\n",
      "第 85 項費氏數列值為 : 259695496911122585\n",
      "第 86 項費氏數列值為 : 420196140727489673\n",
      "第 87 項費氏數列值為 : 679891637638612258\n",
      "第 88 項費氏數列值為 : 1100087778366101931\n",
      "第 89 項費氏數列值為 : 1779979416004714189\n",
      "第 90 項費氏數列值為 : 2880067194370816120\n",
      "第 91 項費氏數列值為 : 4660046610375530309\n",
      "第 92 項費氏數列值為 : 7540113804746346429\n",
      "第 93 項費氏數列值為 : 12200160415121876738\n",
      "第 94 項費氏數列值為 : 19740274219868223167\n",
      "第 95 項費氏數列值為 : 31940434634990099905\n",
      "第 96 項費氏數列值為 : 51680708854858323072\n",
      "第 97 項費氏數列值為 : 83621143489848422977\n",
      "第 98 項費氏數列值為 : 135301852344706746049\n",
      "第 99 項費氏數列值為 : 218922995834555169026\n"
     ]
    }
   ],
   "source": [
    "### 顯示 1 ~ 31 的 費氏數列值\n",
    "for i in range(1,100):\n",
    "    print(f\"第 {i} 項費氏數列值為 : {fibonacci(i)}\")"
   ]
  },
  {
   "cell_type": "code",
   "execution_count": 5,
   "id": "ca5f8bde",
   "metadata": {},
   "outputs": [
    {
     "name": "stdout",
     "output_type": "stream",
     "text": [
      "0.2210875397539599\n",
      "33\n",
      "b\n",
      "--------------------------------------------------------------------------------\n",
      "/Users/jeff/Downloads/jjkk/python-basic-online\n",
      "['.DS_Store', '5-2_pre.ipynb', 'Anaconda-安裝流程-(Windows版).md', '5-1_loop_迴圈.ipynb', 'Decorator', '3-3_練習題檢核1.ipynb', 'labber', 'PTT-stock.ipynb', '3-1_operator_運算子.ipynb', 'README.md', '5-2_function_函式.ipynb', '4-1_list-and-dict_串列_與_字典.ipynb', '.ipynb_checkpoints', '.git', 'FAQ-series.md', '3-2_if-else_流程控制1.ipynb']\n",
      "True\n",
      "False\n",
      "2022-10-28T17:39:38.757429+08:00\n",
      "2022-10-28 17:39:38\n"
     ]
    }
   ],
   "source": [
    "### 套件\n",
    "import random \n",
    "print( random.random() )\n",
    "print( random.randint(1,49) )\n",
    "print( random.choice([1,2,3,4,5,\"a\",\"b\",\"c\",\"d\",\"e\"]) )\n",
    "\n",
    "print(\"-\"*80)\n",
    "\n",
    "import os \n",
    "print( os.getcwd() )\n",
    "print( os.listdir() ) # 顯示 工作目錄 底下的檔案 or 資料夾\n",
    "print( os.path.exists(\"PTT-stock.ipynb\") ) # 檢查檔案是否存在\n",
    "print( os.path.exists(\"testqq-stock.ipynb\") ) # 檢查檔案是否存在\n",
    "\n",
    "import arrow \n",
    "print( arrow.now() )\n",
    "print( arrow.now().format(\"YYYY-MM-DD HH:mm:ss\") )"
   ]
  },
  {
   "cell_type": "code",
   "execution_count": 6,
   "id": "d41149f4",
   "metadata": {},
   "outputs": [
    {
     "name": "stdout",
     "output_type": "stream",
     "text": [
      "<!doctype html><html itemscope=\"\" itemtype=\"http://schema.org/WebPage\" lang=\"zh-TW\"><head><meta content=\"text/html; charset=UTF-8\" http-equiv=\"Content-Type\"><meta content=\"/images/branding/googleg/1x/googleg_standard_color_128dp.png\" itemprop=\"image\"><title>Google</title><script nonce=\"jpmSEyaq-QLFLP11fbSfzQ\">(function(){window.google={kEI:'vKNbY7XfB_jX2roPpbGp-Ao',kEXPI:'0,1302536,56872,6060,206,4804,2316,383,246,5,5367,1123753,1197757,380734,16114,28684,22431,1361,12315,17584,4998,13228,3847,10622,22741,5081,885,708,1279,2742,149,1103,840,1983,213,4102,107,3406,606,2023,1777,520,7882,6788,3228,2844,7,4774,825,19391,8780,1851,15798,34,503,6460,148,13975,4,1528,2304,27348,7422,7357,13658,4437,16786,5821,2536,4097,14,4035,3,3541,1,42154,2,14022,6248,7868,11623,5679,1020,2381,28742,4568,6255,23419,1254,5835,14967,4333,20,7464,445,2,2,1,24626,2006,8155,7381,1401,14568,874,19634,6,1922,4078,1706,3995,21779,14375,11642,5373,123,700,4,1,2,2,2,2,424,8229,7815,978,9321,2,2020,14,82,949,1522,1419,751,201,1867,643,5730,1184,14,2722,922,102,511,1323,346,473,1149,3606,1565,459,1125,765,773,40,3169,299,1758,1326,858,280,424,183,872,1797,2346,965,778,813,1224,10,280,281,270,1795,1120,2,238,709,988,544,1289,216,2,43,242,197,924,443,7,337,150,127,2,4,2,279,7,580,493,865,160,237,1750,4,236,980,311,136,3,265,178,52,44,26,229,835,116,111,25,363,210,820,54,73,14,141,224,267,256,4,206,591,266,254,56,356,1,654,207,580,321,114,264,99,5310089,5931,5995801,2803379,3311,141,795,19735,1,1,346,2259,18,23948207,487,25,4041631,1964,3094,13579,3405,11319,713,1477,1482808',kBL:'0MQP'};google.sn='webhp';google.kHL='zh-TW';})();(function(){\n",
      "var f=this||self;var h,k=[];function l(a){for(var b;a&&(!a.getAttribute||!(b=a.getAttribute(\"eid\")));)a=a.parentNode;return b||h}function m(a){for(var b=null;a&&(!a.getAttribute||!(b=a.getAttribute(\"leid\")));)a=a.parentNode;return b}\n",
      "function n(a,b,c,d,g){var e=\"\";c||-1!==b.search(\"&ei=\")||(e=\"&ei=\"+l(d),-1===b.search(\"&lei=\")&&(d=m(d))&&(e+=\"&lei=\"+d));d=\"\";!c&&f._cshid&&-1===b.search(\"&cshid=\")&&\"slh\"!==a&&(d=\"&cshid=\"+f._cshid);c=c||\"/\"+(g||\"gen_204\")+\"?atyp=i&ct=\"+a+\"&cad=\"+b+e+\"&zx=\"+Date.now()+d;/^http:/i.test(c)&&\"https:\"===window.location.protocol&&(google.ml&&google.ml(Error(\"a\"),!1,{src:c,glmm:1}),c=\"\");return c};h=google.kEI;google.getEI=l;google.getLEI=m;google.ml=function(){return null};google.log=function(a,b,c,d,g){if(c=n(a,b,c,d,g)){a=new Image;var e=k.length;k[e]=a;a.onerror=a.onload=a.onabort=function(){delete k[e]};a.src=c}};google.logUrl=n;}).call(this);(function(){\n",
      "google.y={};google.sy=[];google.x=function(a,b){if(a)var c=a.id;else{do c=Math.random();while(google.y[c])}google.y[c]=[a,b];return!1};google.sx=function(a){google.sy.push(a)};google.lm=[];google.plm=function(a){google.lm.push.apply(google.lm,a)};google.lq=[];google.load=function(a,b,c){google.lq.push([[a],b,c])};google.loadAll=function(a,b){google.lq.push([a,b])};google.bx=!1;google.lx=function(){};}).call(this);google.f={};(function(){\n",
      "document.documentElement.addEventListener(\"submit\",function(b){var a;if(a=b.target){var c=a.getAttribute(\"data-submitfalse\");a=\"1\"===c||\"q\"===c&&!a.elements.q.value?!0:!1}else a=!1;a&&(b.preventDefault(),b.stopPropagation())},!0);document.documentElement.addEventListener(\"click\",function(b){var a;a:{for(a=b.target;a&&a!==document.documentElement;a=a.parentElement)if(\"A\"===a.tagName){a=\"1\"===a.getAttribute(\"data-nohref\");break a}a=!1}a&&b.preventDefault()},!0);}).call(this);</script><style>#gbar,#guser{font-size:13px;padding-top:1px !important;}#gbar{height:22px}#guser{padding-bottom:7px !important;text-align:right}.gbh,.gbd{border-top:1px solid #c9d7f1;font-size:1px}.gbh{height:0;position:absolute;top:24px;width:100%}@media all{.gb1{height:22px;margin-right:.5em;vertical-align:top}#gbar{float:left}}a.gb1,a.gb4{text-decoration:underline !important}a.gb1,a.gb4{color:#00c !important}.gbi .gb4{color:#dd8e27 !important}.gbf .gb4{color:#900 !important}\n",
      "</style><style>body,td,a,p,.h{font-family:arial,sans-serif}body{margin:0;overflow-y:scroll}#gog{padding:3px 8px 0}td{line-height:.8em}.gac_m td{line-height:17px}form{margin-bottom:20px}.h{color:#1558d6}em{color:#c5221f;font-style:normal;font-weight:normal}a em{text-decoration:underline}.lst{height:25px;width:496px}.gsfi,.lst{font:18px arial,sans-serif}.gsfs{font:17px arial,sans-serif}.ds{display:inline-box;display:inline-block;margin:3px 0 4px;margin-left:4px}input{font-family:inherit}body{background:#fff;color:#000}a{color:#4b11a8;text-decoration:none}a:hover,a:active{text-decoration:underline}.fl a{color:#1558d6}a:visited{color:#4b11a8}.sblc{padding-top:5px}.sblc a{display:block;margin:2px 0;margin-left:13px;font-size:11px}.lsbb{background:#f8f9fa;border:solid 1px;border-color:#dadce0 #70757a #70757a #dadce0;height:30px}.lsbb{display:block}#WqQANb a{display:inline-block;margin:0 12px}.lsb{background:url(/images/nav_logo229.png) 0 -261px repeat-x;border:none;color:#000;cursor:pointer;height:30px;margin:0;outline:0;font:15px arial,sans-serif;vertical-align:top}.lsb:active{background:#dadce0}.lst:focus{outline:none}</style><script nonce=\"jpmSEyaq-QLFLP11fbSfzQ\">(function(){window.google.erd={jsr:1,bv:1676,de:true};\n",
      "var h=this||self;var k,l=null!=(k=h.mei)?k:1,n,p=null!=(n=h.sdo)?n:!0,q=0,r,t=google.erd,v=t.jsr;google.ml=function(a,b,d,m,e){e=void 0===e?2:e;b&&(r=a&&a.message);if(google.dl)return google.dl(a,e,d),null;if(0>v){window.console&&console.error(a,d);if(-2===v)throw a;b=!1}else b=!a||!a.message||\"Error loading script\"===a.message||q>=l&&!m?!1:!0;if(!b)return null;q++;d=d||{};b=encodeURIComponent;var c=\"/gen_204?atyp=i&ei=\"+b(google.kEI);google.kEXPI&&(c+=\"&jexpid=\"+b(google.kEXPI));c+=\"&srcpg=\"+b(google.sn)+\"&jsr=\"+b(t.jsr)+\"&bver=\"+b(t.bv);var f=a.lineNumber;void 0!==f&&(c+=\"&line=\"+f);var g=\n",
      "a.fileName;g&&(0<g.indexOf(\"-extension:/\")&&(e=3),c+=\"&script=\"+b(g),f&&g===window.location.href&&(f=document.documentElement.outerHTML.split(\"\\n\")[f],c+=\"&cad=\"+b(f?f.substring(0,300):\"No script found.\")));c+=\"&jsel=\"+e;for(var u in d)c+=\"&\",c+=b(u),c+=\"=\",c+=b(d[u]);c=c+\"&emsg=\"+b(a.name+\": \"+a.message);c=c+\"&jsst=\"+b(a.stack||\"N/A\");12288<=c.length&&(c=c.substr(0,12288));a=c;m||google.log(0,\"\",a);return a};window.onerror=function(a,b,d,m,e){r!==a&&(a=e instanceof Error?e:Error(a),void 0===d||\"lineNumber\"in a||(a.lineNumber=d),void 0===b||\"fileName\"in a||(a.fileName=b),google.ml(a,!1,void 0,!1,\"SyntaxError\"===a.name||\"SyntaxError\"===a.message.substring(0,11)||-1!==a.message.indexOf(\"Script error\")?3:0));r=null;p&&q>=l&&(window.onerror=null)};})();</script></head><body bgcolor=\"#fff\"><script nonce=\"jpmSEyaq-QLFLP11fbSfzQ\">(function(){var src='/images/nav_logo229.png';var iesg=false;document.body.onload = function(){window.n && window.n();if (document.images){new Image().src=src;}\n",
      "if (!iesg){document.f&&document.f.q.focus();document.gbqf&&document.gbqf.q.focus();}\n",
      "}\n",
      "})();</script><div id=\"mngb\"><div id=gbar><nobr><b class=gb1>&#25628;&#23563;</b> <a class=gb1 href=\"https://www.google.com.tw/imghp?hl=zh-TW&tab=wi\">&#22294;&#29255;</a> <a class=gb1 href=\"https://maps.google.com.tw/maps?hl=zh-TW&tab=wl\">&#22320;&#22294;</a> <a class=gb1 href=\"https://play.google.com/?hl=zh-TW&tab=w8\">Play</a> <a class=gb1 href=\"https://www.youtube.com/?tab=w1\">YouTube</a> <a class=gb1 href=\"https://news.google.com/?tab=wn\">&#26032;&#32862;</a> <a class=gb1 href=\"https://mail.google.com/mail/?tab=wm\">Gmail</a> <a class=gb1 href=\"https://drive.google.com/?tab=wo\">&#38642;&#31471;&#30828;&#30879;</a> <a class=gb1 style=\"text-decoration:none\" href=\"https://www.google.com.tw/intl/zh-TW/about/products?tab=wh\"><u>&#26356;&#22810;</u> &raquo;</a></nobr></div><div id=guser width=100%><nobr><span id=gbn class=gbi></span><span id=gbf class=gbf></span><span id=gbe></span><a href=\"http://www.google.com.tw/history/optout?hl=zh-TW\" class=gb4>&#32178;&#38913;&#35352;&#37636;</a> | <a  href=\"/preferences?hl=zh-TW\" class=gb4>&#35373;&#23450;</a> | <a target=_top id=gb_70 href=\"https://accounts.google.com/ServiceLogin?hl=zh-TW&passive=true&continue=https://www.google.com/&ec=GAZAAQ\" class=gb4>&#30331;&#20837;</a></nobr></div><div class=gbh style=left:0></div><div class=gbh style=right:0></div></div><center><br clear=\"all\" id=\"lgpd\"><div id=\"lga\"><img alt=\"Google\" height=\"92\" src=\"/images/branding/googlelogo/1x/googlelogo_white_background_color_272x92dp.png\" style=\"padding:28px 0 14px\" width=\"272\" id=\"hplogo\"><br><br></div><form action=\"/search\" name=\"f\"><table cellpadding=\"0\" cellspacing=\"0\"><tr valign=\"top\"><td width=\"25%\">&nbsp;</td><td align=\"center\" nowrap=\"\"><input name=\"ie\" value=\"ISO-8859-1\" type=\"hidden\"><input value=\"zh-TW\" name=\"hl\" type=\"hidden\"><input name=\"source\" type=\"hidden\" value=\"hp\"><input name=\"biw\" type=\"hidden\"><input name=\"bih\" type=\"hidden\"><div class=\"ds\" style=\"height:32px;margin:4px 0\"><input class=\"lst\" style=\"margin:0;padding:5px 8px 0 6px;vertical-align:top;color:#000\" autocomplete=\"off\" value=\"\" title=\"Google &#25628;&#23563;\" maxlength=\"2048\" name=\"q\" size=\"57\"></div><br style=\"line-height:0\"><span class=\"ds\"><span class=\"lsbb\"><input class=\"lsb\" value=\"Google &#25628;&#23563;\" name=\"btnG\" type=\"submit\"></span></span><span class=\"ds\"><span class=\"lsbb\"><input class=\"lsb\" id=\"tsuid_1\" value=\"&#22909;&#25163;&#27683;\" name=\"btnI\" type=\"submit\"><script nonce=\"jpmSEyaq-QLFLP11fbSfzQ\">(function(){var id='tsuid_1';document.getElementById(id).onclick = function(){if (this.form.q.value){this.checked = 1;if (this.form.iflsig)this.form.iflsig.disabled = false;}\n",
      "else top.location='/doodles/';};})();</script><input value=\"AJiK0e8AAAAAY1uxzOtIZ_awPlbYFfcpBZhP3X8xG5kS\" name=\"iflsig\" type=\"hidden\"></span></span></td><td class=\"fl sblc\" align=\"left\" nowrap=\"\" width=\"25%\"><a href=\"/advanced_search?hl=zh-TW&amp;authuser=0\">&#36914;&#38542;&#25628;&#23563;</a></td></tr></table><input id=\"gbv\" name=\"gbv\" type=\"hidden\" value=\"1\"><script nonce=\"jpmSEyaq-QLFLP11fbSfzQ\">(function(){\n",
      "var a,b=\"1\";if(document&&document.getElementById)if(\"undefined\"!=typeof XMLHttpRequest)b=\"2\";else if(\"undefined\"!=typeof ActiveXObject){var c,d,e=[\"MSXML2.XMLHTTP.6.0\",\"MSXML2.XMLHTTP.3.0\",\"MSXML2.XMLHTTP\",\"Microsoft.XMLHTTP\"];for(c=0;d=e[c++];)try{new ActiveXObject(d),b=\"2\"}catch(h){}}a=b;if(\"2\"==a&&-1==location.search.indexOf(\"&gbv=2\")){var f=google.gbvu,g=document.getElementById(\"gbv\");g&&(g.value=a);f&&window.setTimeout(function(){location.href=f},0)};}).call(this);</script></form><div id=\"gac_scont\"></div><div style=\"font-size:83%;min-height:3.5em\"><br></div><span id=\"footer\"><div style=\"font-size:10pt\"><div style=\"margin:19px auto;text-align:center\" id=\"WqQANb\"><a href=\"http://www.google.com.tw/intl/zh-TW/services/\">&#21830;&#26989;&#35299;&#27770;&#26041;&#26696;</a><a href=\"/intl/zh-TW/about.html\">&#38364;&#26044; Google</a><a href=\"https://www.google.com/setprefdomain?prefdom=TW&amp;prev=https://www.google.com.tw/&amp;sig=K_-dm-b8iiJ_gcRItNg7w_JftMu-Y%3D\">Google.com.tw</a></div></div><p style=\"font-size:8pt;color:#70757a\">&copy; 2022 - <a href=\"/intl/zh-TW/policies/privacy/\">&#38577;&#31169;&#27402;</a> - <a href=\"/intl/zh-TW/policies/terms/\">&#26381;&#21209;&#26781;&#27454;</a></p></span></center><script nonce=\"jpmSEyaq-QLFLP11fbSfzQ\">(function(){window.google.cdo={height:757,width:1440};(function(){\n",
      "var a=window.innerWidth,b=window.innerHeight;if(!a||!b){var c=window.document,d=\"CSS1Compat\"==c.compatMode?c.documentElement:c.body;a=d.clientWidth;b=d.clientHeight}a&&b&&(a!=google.cdo.width||b!=google.cdo.height)&&google.log(\"\",\"\",\"/client_204?&atyp=i&biw=\"+a+\"&bih=\"+b+\"&ei=\"+google.kEI);}).call(this);})();</script> <script nonce=\"jpmSEyaq-QLFLP11fbSfzQ\">(function(){google.xjs={ck:'xjs.hp.RNWEtoGz84k.L.X.O',cs:'ACT90oF2JZipE_kuwzuNqMTnhzvAiU_I8g',excm:[]};})();</script>  <script nonce=\"jpmSEyaq-QLFLP11fbSfzQ\">(function(){var u='/xjs/_/js/k\\x3dxjs.hp.en.eaAeWkpMirc.O/am\\x3dAAB0AgBQAKAC/d\\x3d1/ed\\x3d1/rs\\x3dACT90oGcSc5F_3zqbhPEcNQ4Lo17BsrUfA/m\\x3dsb_he,d';\n",
      "var d=this||self,e=function(a){return a};\n",
      "var g;var l=function(a,b){this.g=b===h?a:\"\"};l.prototype.toString=function(){return this.g+\"\"};var h={};function n(){var a=u;google.lx=function(){p(a);google.lx=function(){}};google.bx||google.lx()}\n",
      "function p(a){google.timers&&google.timers.load&&google.tick&&google.tick(\"load\",\"xjsls\");var b=document;var c=\"SCRIPT\";\"application/xhtml+xml\"===b.contentType&&(c=c.toLowerCase());c=b.createElement(c);if(void 0===g){b=null;var k=d.trustedTypes;if(k&&k.createPolicy){try{b=k.createPolicy(\"goog#html\",{createHTML:e,createScript:e,createScriptURL:e})}catch(q){d.console&&d.console.error(q.message)}g=b}else g=b}a=(b=g)?b.createScriptURL(a):a;a=new l(a,h);c.src=a instanceof l&&a.constructor===l?a.g:\"type_error:TrustedResourceUrl\";var f,m;(f=(a=null==(m=(f=(c.ownerDocument&&c.ownerDocument.defaultView||window).document).querySelector)?void 0:m.call(f,\"script[nonce]\"))?a.nonce||a.getAttribute(\"nonce\")||\"\":\"\")&&c.setAttribute(\"nonce\",f);document.body.appendChild(c);google.psa=!0};google.xjsu=u;setTimeout(function(){n()},0);})();function _DumpException(e){throw e;}\n",
      "function _F_installCss(c){}\n",
      "(function(){google.jl={blt:'none',chnk:0,dw:false,dwu:true,emtn:0,end:0,ine:false,injs:'none',injt:0,injth:0,injv2:false,lls:'default',pdt:0,rep:0,snet:true,strt:0,ubm:false,uwp:true};})();(function(){var pmc='{\\x22d\\x22:{},\\x22sb_he\\x22:{\\x22agen\\x22:true,\\x22cgen\\x22:true,\\x22client\\x22:\\x22heirloom-hp\\x22,\\x22dh\\x22:true,\\x22dhqt\\x22:true,\\x22ds\\x22:\\x22\\x22,\\x22ffql\\x22:\\x22zh-TW\\x22,\\x22fl\\x22:true,\\x22host\\x22:\\x22google.com\\x22,\\x22isbh\\x22:28,\\x22jsonp\\x22:true,\\x22msgs\\x22:{\\x22cibl\\x22:\\x22&#28165;&#38500;&#25628;&#23563;\\x22,\\x22dym\\x22:\\x22&#20320;&#26159;&#19981;&#26159;&#35201;&#26597;&#65306;\\x22,\\x22lcky\\x22:\\x22&#22909;&#25163;&#27683;\\x22,\\x22lml\\x22:\\x22&#30637;&#35299;&#35443;&#24773;\\x22,\\x22oskt\\x22:\\x22&#36664;&#20837;&#24037;&#20855;\\x22,\\x22psrc\\x22:\\x22&#24050;&#24478;&#24744;&#30340;&#12300;\\\\u003Ca href\\x3d\\\\\\x22/history\\\\\\x22\\\\u003E&#32178;&#38913;&#35352;&#37636;\\\\u003C/a\\\\u003E&#12301;&#20013;&#31227;&#38500;&#36889;&#31558;&#25628;&#23563;&#35352;&#37636;\\x22,\\x22psrl\\x22:\\x22&#31227;&#38500;\\x22,\\x22sbit\\x22:\\x22&#20197;&#22294;&#25628;&#23563;\\x22,\\x22srch\\x22:\\x22Google &#25628;&#23563;\\x22},\\x22ovr\\x22:{},\\x22pq\\x22:\\x22\\x22,\\x22refpd\\x22:true,\\x22rfs\\x22:[],\\x22sbas\\x22:\\x220 3px 8px 0 rgba(0,0,0,0.2),0 0 0 1px rgba(0,0,0,0.08)\\x22,\\x22sbpl\\x22:16,\\x22sbpr\\x22:16,\\x22scd\\x22:10,\\x22stok\\x22:\\x2225XerNqSWIlBZZpWbDy7C3OKOns\\x22,\\x22uhde\\x22:false}}';google.pmc=JSON.parse(pmc);})();</script>        </body></html>\n"
     ]
    }
   ],
   "source": [
    "import requests \n",
    "res = requests.get(\"https://google.com\")\n",
    "print(res.text)"
   ]
  }
 ],
 "metadata": {
  "kernelspec": {
   "display_name": "Python 3 (ipykernel)",
   "language": "python",
   "name": "python3"
  },
  "language_info": {
   "codemirror_mode": {
    "name": "ipython",
    "version": 3
   },
   "file_extension": ".py",
   "mimetype": "text/x-python",
   "name": "python",
   "nbconvert_exporter": "python",
   "pygments_lexer": "ipython3",
   "version": "3.9.5"
  }
 },
 "nbformat": 4,
 "nbformat_minor": 5
}
