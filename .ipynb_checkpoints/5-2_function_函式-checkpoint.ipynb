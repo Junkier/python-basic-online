{
 "cells": [
  {
   "cell_type": "code",
   "execution_count": 5,
   "id": "69db7ecc",
   "metadata": {},
   "outputs": [
    {
     "name": "stdout",
     "output_type": "stream",
     "text": [
      "a : 3\n",
      "b : 5\n",
      "a : 100\n",
      "b : -20\n",
      "8\n",
      "80\n",
      "--------------------------------------------------------------------------------\n",
      "a : -17\n",
      "b : 33\n",
      "16\n"
     ]
    }
   ],
   "source": [
    "### 函式 (function)\n",
    "# function-1\n",
    "\n",
    "# 定義 function \n",
    "def add(a,b):  # a,b -> 輸入參數\n",
    "    print(\"a :\",a)\n",
    "    print(\"b :\",b)\n",
    "    result = a+b\n",
    "    \n",
    "    # 回傳運算結果  -> 輸出結果\n",
    "    return result \n",
    "\n",
    "\n",
    "# 呼叫(使用) function \n",
    "data1 = add(3,5)\n",
    "data2 = add(100,-20)\n",
    "print(data1)\n",
    "print(data2)\n",
    "\n",
    "print(\"-\"*80)\n",
    "\n",
    "print( add(-17,33) )  # 先執行 add(-17,33) -> print( 16 )"
   ]
  },
  {
   "cell_type": "code",
   "execution_count": 9,
   "id": "e9f2f441",
   "metadata": {},
   "outputs": [
    {
     "name": "stdout",
     "output_type": "stream",
     "text": [
      "[8, -2, 15, 0.6]\n",
      "[35, -39, -74, -0.05405405405405406]\n",
      "[33, -11, 242, 0.5]\n",
      "--------------------------------------------------------------------------------\n",
      "嗨嗨, 我是 Jeff\n",
      "!!!\n",
      "嗨嗨, 我是 Leo ~~~\n",
      "!!!\n",
      "嗨嗨, 我是 Yuni\n",
      "!!!\n"
     ]
    }
   ],
   "source": [
    "# function-2\n",
    "\n",
    "# 計算兩個數字 加/減/乘/除\n",
    "# 定義 function\n",
    "def calculate(x,y):\n",
    "    add = x+y\n",
    "    diff = x-y\n",
    "    multiply = x*y\n",
    "    divide = x/y\n",
    "    \n",
    "    return [add , diff , multiply , divide]\n",
    "    \n",
    "\n",
    "# 呼叫(使用) function\n",
    "result1 = calculate(3,5)\n",
    "result2 = calculate(-2,37)\n",
    "result3 = calculate(11,22)\n",
    "print(result1)\n",
    "print(result2)\n",
    "print(result3)\n",
    "\n",
    "print(\"-\"*80)\n",
    "\n",
    "def say_hello(name):\n",
    "    print(f\"嗨嗨, 我是 {name}\")\n",
    "    print(\"!!!\")\n",
    "    \n",
    "\n",
    "say_hello(\"Jeff\")\n",
    "say_hello(\"Leo ~~~\")\n",
    "say_hello(\"Yuni\")"
   ]
  },
  {
   "cell_type": "code",
   "execution_count": 13,
   "id": "9a056624",
   "metadata": {},
   "outputs": [
    {
     "name": "stdout",
     "output_type": "stream",
     "text": [
      "--- 開始執行 test_func ---\n",
      "Jeff\n",
      "Age : 18\n",
      "Remark : 嗨嗨~~~\n",
      "--- test_func 結束 ---\n",
      "--- 開始執行 test_func ---\n",
      "Leo\n",
      "Age : 22\n",
      "Remark : 好熱～～\n",
      "--- test_func 結束 ---\n",
      "result4 : Done.\n",
      "result5 : Done.\n"
     ]
    }
   ],
   "source": [
    "# function-3\n",
    "# 定義 function \n",
    "def test_func(name,age,remark = \"嗨嗨~~~\"):\n",
    "    print(\"--- 開始執行 test_func ---\")\n",
    "    print(name)\n",
    "    print(f\"Age : {age}\")\n",
    "    print(f\"Remark : {remark}\")\n",
    "    print(\"--- test_func 結束 ---\")\n",
    "    return \"Done.\"\n",
    "\n",
    "\n",
    "# 呼叫(使用) function\n",
    "result4 = test_func(\"Jeff\",18)\n",
    "result5 = test_func(\"Leo\",22,\"好熱～～\")\n",
    "\n",
    "print(\"result4 :\", result4)\n",
    "print(\"result5 :\", result5)"
   ]
  },
  {
   "cell_type": "code",
   "execution_count": 14,
   "id": "f8ad6c9e",
   "metadata": {},
   "outputs": [
    {
     "name": "stdout",
     "output_type": "stream",
     "text": [
      "Math sum: 477\n",
      "Math avg: 95.4\n",
      "Math max: 100\n",
      "--------------------------------------------------------------------------------\n",
      "Eng sum: 364\n",
      "Eng avg: 72.8\n",
      "Eng max: 87\n",
      "--------------------------------------------------------------------------------\n",
      "Chinese sum: 244\n",
      "Chinese avg: 48.8\n",
      "Chinese max: 95\n"
     ]
    }
   ],
   "source": [
    "# 求 Math / Eng / Chinese 總和 , 平均 , 最大值 \n",
    "math = [87,100,97,99,94]\n",
    "eng = [78,86,47,87,66]\n",
    "chinese = [10,95,61,53,25]\n",
    "\n",
    "print(f\"Math sum: { sum(math) }\")\n",
    "print(f\"Math avg: { sum(math) / len(math) }\")\n",
    "print(f\"Math max: { max(math) }\")\n",
    "\n",
    "print(\"-\"*80)\n",
    "    \n",
    "print(f\"Eng sum: { sum(eng) }\")\n",
    "print(f\"Eng avg: { sum(eng) / len(eng) }\")\n",
    "print(f\"Eng max: { max(eng) }\")\n",
    "\n",
    "print(\"-\"*80)\n",
    "\n",
    "print(f\"Chinese sum: { sum(chinese) }\")\n",
    "print(f\"Chinese avg: { sum(chinese) / len(chinese) }\")\n",
    "print(f\"Chinese max: { max(chinese) }\")"
   ]
  },
  {
   "cell_type": "code",
   "execution_count": 20,
   "id": "b8f0e090",
   "metadata": {},
   "outputs": [
    {
     "name": "stdout",
     "output_type": "stream",
     "text": [
      "name : Math\n",
      "scores : [87, 100, 97, 99, 94]\n",
      "Math sum: 477\n",
      "Math avg: 95.4\n",
      "Math max: 100\n",
      "Math min: 87\n",
      "--------------------------------------------------------------------------------\n",
      "name : English\n",
      "scores : [78, 86, 47, 87, 66]\n",
      "English sum: 364\n",
      "English avg: 72.8\n",
      "English max: 87\n",
      "English min: 47\n",
      "--------------------------------------------------------------------------------\n",
      "name : Chinese\n",
      "scores : [10, 95, 61, 53, 25]\n",
      "Chinese sum: 244\n",
      "Chinese avg: 48.8\n",
      "Chinese max: 95\n",
      "Chinese min: 10\n",
      "--------------------------------------------------------------------------------\n",
      "name : Science\n",
      "scores : [99, 80, 77, 12, 100]\n",
      "Science sum: 368\n",
      "Science avg: 73.6\n",
      "Science max: 100\n",
      "Science min: 12\n"
     ]
    }
   ],
   "source": [
    "# function-4\n",
    "math = [87,100,97,99,94]\n",
    "eng = [78,86,47,87,66]\n",
    "chinese = [10,95,61,53,25]\n",
    "science = [99,80,77,12,100]\n",
    "\n",
    "# name -> 科目名稱 ; scores -> 成績的 list\n",
    "def get_scores_info(name , scores):\n",
    "    print(f\"name : {name}\")\n",
    "    print(f\"scores : {scores}\")\n",
    "    print(f\"{name} sum: { sum(scores) }\")\n",
    "    print(f\"{name} avg: { sum(scores) / len(scores) }\")\n",
    "    print(f\"{name} max: { max(scores) }\")\n",
    "    print(f\"{name} min: { min(scores) }\")\n",
    "\n",
    "get_scores_info(\"Math\" , math)\n",
    "print(\"-\"*80)\n",
    "get_scores_info(\"English\", eng)\n",
    "print(\"-\"*80)\n",
    "get_scores_info(\"Chinese\", chinese)\n",
    "print(\"-\"*80)\n",
    "get_scores_info(\"Science\", science)"
   ]
  },
  {
   "cell_type": "code",
   "execution_count": 22,
   "id": "c1109772",
   "metadata": {},
   "outputs": [
    {
     "name": "stdout",
     "output_type": "stream",
     "text": [
      "我是 say_hello\n",
      "嗨嗨, 我是 Jeff\n",
      "r1 : None\n",
      "我是 say_hello_with_return\n",
      "嗨嗨, 我是 Jeff\n",
      "r2 : 今天星期五 !!!\n"
     ]
    }
   ],
   "source": [
    "# function-5 小觀念\n",
    "# 1) 有 return / 沒有 return 差別\n",
    "\n",
    "def say_hello(name):\n",
    "    print(\"我是 say_hello\")\n",
    "    print(f\"嗨嗨, 我是 {name}\")\n",
    "    \n",
    "def say_hello_with_return(name):\n",
    "    print(\"我是 say_hello_with_return\")\n",
    "    print(f\"嗨嗨, 我是 {name}\")\n",
    "    return \"今天星期五 !!!\"\n",
    "\n",
    "\n",
    "# say_hello(\"Jeff\")\n",
    "# say_hello_with_return(\"Jeff\")\n",
    "\n",
    "# r1 = say_hello(\"Jeff\")\n",
    "# print(\"r1 :\" , r1)\n",
    "# r2 = say_hello_with_return(\"Jeff\")\n",
    "# print(\"r2 :\" , r2)\n",
    "\n",
    "## 沒有 return 的 function -> 不需 變數 接住\n",
    "say_hello(\"Jeff\")\n",
    "\n",
    "## 有 return 的 function -> 需要 變數 接住結果\n",
    "r2 = say_hello_with_return(\"Jeff\")\n",
    "print(\"r2 :\" , r2)"
   ]
  },
  {
   "cell_type": "code",
   "execution_count": 27,
   "id": "b93cc130",
   "metadata": {},
   "outputs": [
    {
     "name": "stdout",
     "output_type": "stream",
     "text": [
      "Math result : {'total': 477, 'avg': 95.4}\n"
     ]
    },
    {
     "ename": "NameError",
     "evalue": "name 'testqq' is not defined",
     "output_type": "error",
     "traceback": [
      "\u001b[0;31m---------------------------------------------------------------------------\u001b[0m",
      "\u001b[0;31mNameError\u001b[0m                                 Traceback (most recent call last)",
      "\u001b[0;32m/var/folders/xf/699gcn4x1zqf0z8db2w02pq40000gn/T/ipykernel_80284/2320026966.py\u001b[0m in \u001b[0;36m<module>\u001b[0;34m\u001b[0m\n\u001b[1;32m     16\u001b[0m \u001b[0mprint\u001b[0m\u001b[0;34m(\u001b[0m\u001b[0;34mf\"Math result : {math_result}\"\u001b[0m\u001b[0;34m)\u001b[0m\u001b[0;34m\u001b[0m\u001b[0;34m\u001b[0m\u001b[0m\n\u001b[1;32m     17\u001b[0m \u001b[0;34m\u001b[0m\u001b[0m\n\u001b[0;32m---> 18\u001b[0;31m \u001b[0mprint\u001b[0m\u001b[0;34m(\u001b[0m\u001b[0mtestqq\u001b[0m\u001b[0;34m)\u001b[0m\u001b[0;34m\u001b[0m\u001b[0;34m\u001b[0m\u001b[0m\n\u001b[0m\u001b[1;32m     19\u001b[0m \u001b[0;31m# print(total)\u001b[0m\u001b[0;34m\u001b[0m\u001b[0;34m\u001b[0m\u001b[0;34m\u001b[0m\u001b[0m\n\u001b[1;32m     20\u001b[0m \u001b[0;31m# print(avg)\u001b[0m\u001b[0;34m\u001b[0m\u001b[0;34m\u001b[0m\u001b[0;34m\u001b[0m\u001b[0m\n",
      "\u001b[0;31mNameError\u001b[0m: name 'testqq' is not defined"
     ]
    }
   ],
   "source": [
    "# 2) function 內的變數為「區域變數」\n",
    "math = [87,100,97,99,94]\n",
    "eng = [78,86,47,87,66]\n",
    "chinese = [10,95,61,53,25]\n",
    "\n",
    "def get_scores_info(scores):\n",
    "    total = sum(scores)\n",
    "    avg = sum(scores) / len(scores)\n",
    "    testqq = 123   ## testqq 為 區域變數 -> 只在 function 裡面看得到 , function 結束 即消失 !!!\n",
    "    return {\n",
    "        \"total\" : total,\n",
    "        \"avg\"   : avg\n",
    "    }\n",
    "\n",
    "math_result = get_scores_info(math)\n",
    "print(f\"Math result : {math_result}\")\n",
    "\n",
    "# print(testqq)\n",
    "# print(total)\n",
    "# print(avg)\n",
    "\n",
    "eng_result = get_scores_info(eng)\n",
    "print(f\"Eng result : {eng_result}\")\n",
    "\n",
    "chinese_result = get_scores_info(chinese)\n",
    "print(f\"Chinese result : {chinese_result}\")"
   ]
  },
  {
   "cell_type": "code",
   "execution_count": 33,
   "id": "f53c074f",
   "metadata": {},
   "outputs": [
    {
     "name": "stdout",
     "output_type": "stream",
     "text": [
      "Avg : 95.4\n",
      "Math : [100, 97, 99]\n",
      "Avg : 72.8\n",
      "Eng : [78, 86, 87]\n",
      "Avg : 48.8\n",
      "Chinese : [95, 61, 53]\n"
     ]
    }
   ],
   "source": [
    "# 3) function 內 , 可以呼叫其他 function \n",
    "math = [87,100,97,99,94]\n",
    "eng = [78,86,47,87,66]\n",
    "chinese = [10,95,61,53,25]\n",
    "\n",
    "def get_scores_info(scores):\n",
    "    total = sum(scores)\n",
    "    avg = sum(scores) / len(scores)\n",
    "    return {\n",
    "        \"total\" : total,\n",
    "        \"avg\"   : avg\n",
    "    }\n",
    "\n",
    "## 取得 超過平均的 分數\n",
    "def get_passed_scores(scores):\n",
    "    \n",
    "    # 1. 取得平均分數\n",
    "    scores_info = get_scores_info(scores)\n",
    "    \n",
    "    print(f'Avg : {scores_info[\"avg\"]}')\n",
    "    \n",
    "    # 2. 抓出比平均分數大的數字, 放入 list 裡面\n",
    "    # 此時 scores  為 list , ex: [87,100,97,99,94]\n",
    "    # scores_info 為 dict , ex: {\"total\" : 477 , \"avg\" : 95.4 }\n",
    "    data = []\n",
    "    for num in scores:\n",
    "        if num >= scores_info[\"avg\"]:\n",
    "            data.append(num)\n",
    "    \n",
    "    # 3. return 該 list \n",
    "    return data\n",
    "    \n",
    "\n",
    "math_passed_scores = get_passed_scores(math)\n",
    "print(f\"Math : {math_passed_scores}\")\n",
    "\n",
    "eng_passed_scores = get_passed_scores(eng)\n",
    "print(f\"Eng : {eng_passed_scores}\")\n",
    "\n",
    "chinese_passed_scores = get_passed_scores(chinese)\n",
    "print(f\"Chinese : {chinese_passed_scores}\")"
   ]
  },
  {
   "cell_type": "code",
   "execution_count": 41,
   "id": "d5f7a082",
   "metadata": {},
   "outputs": [
    {
     "name": "stdout",
     "output_type": "stream",
     "text": [
      "[7, 9, 19, 23, 32, 34]\n",
      "[126, 230, 413, 432, 474, 527, 643, 697, 713, 719, 951]\n",
      "[7, 11, 12, 17, 20, 21, 23, 26, 27, 29, 32, 39, 43, 47, 51, 56, 64, 66, 70, 74, 76, 79, 83, 86, 87, 91, 92, 95, 97, 98]\n"
     ]
    }
   ],
   "source": [
    "### 大樂透 01~49 \n",
    "## 1) 不重複地抽 N 個號碼\n",
    "## 2) 號碼範圍可以自選\n",
    "import random\n",
    "\n",
    "def get_rand_num(n,start=1 , end=49):\n",
    "    result = []\n",
    "    \n",
    "    while len(result) < n:\n",
    "        num = random.randint(start,end)\n",
    "        if num not in result:\n",
    "            result.append(num)\n",
    "    \n",
    "    return sorted(result)\n",
    "\n",
    "data = get_rand_num(6)\n",
    "print(data)\n",
    "\n",
    "data2 = get_rand_num(11,100,999)\n",
    "print(data2)\n",
    "\n",
    "data3 = get_rand_num(30,1,100)\n",
    "print(data3)"
   ]
  },
  {
   "cell_type": "code",
   "execution_count": 47,
   "id": "774c671f",
   "metadata": {},
   "outputs": [
    {
     "name": "stdout",
     "output_type": "stream",
     "text": [
      "請輸入數字1 :12\n",
      "請輸入數字2 :34\n",
      "總和 : 46.0\n",
      "平均 : 23.0\n"
     ]
    }
   ],
   "source": [
    "### 小試身手\n",
    "# 1.  設計一 func , 可以讓使用者輸入兩數字 (float), \n",
    "#     並計算兩數的總合及平均\n",
    "\n",
    "def answer1():\n",
    "    num1 = float(input(\"請輸入數字1 :\"))\n",
    "    num2 = float(input(\"請輸入數字2 :\"))\n",
    "    \n",
    "    print(f\"總和 : {num1 + num2 }\")\n",
    "    print(f\"平均 : {(num1+num2)/2 }\")\n",
    "    \n",
    "answer1()"
   ]
  },
  {
   "cell_type": "code",
   "execution_count": 53,
   "id": "022d5bfc",
   "metadata": {},
   "outputs": [
    {
     "name": "stdout",
     "output_type": "stream",
     "text": [
      "5050\n"
     ]
    }
   ],
   "source": [
    "# 2.  設計一 func , 可回傳 1+2+3+…+n 的值 , \n",
    "#      其中 n 為輸入參數 (int)\n",
    "\n",
    "def answer2(n):\n",
    "    # for-loop 解法\n",
    "#     total = 0\n",
    "#     for i in range(1,n+1):\n",
    "#         total += i \n",
    "#         # total = total + i\n",
    "#     return total\n",
    "\n",
    "    # range 解法\n",
    "    return sum( range(1,n+1)  )\n",
    "    \n",
    "print( answer2(100) )"
   ]
  },
  {
   "cell_type": "code",
   "execution_count": 72,
   "id": "a65a7f22",
   "metadata": {},
   "outputs": [
    {
     "name": "stdout",
     "output_type": "stream",
     "text": [
      "[*] word must be str.\n",
      "EDCBA\n",
      "~~ koob a si sihT\n",
      "～啊冷好面外 ,五拜禮天今\n"
     ]
    }
   ],
   "source": [
    "# 3.  設計一 func , 功能如下：\n",
    "#     1) word 為輸入參數 , 必須為字串(str) , 若不為字串\n",
    "#        則顯示訊息 “[*] word must be str.” \n",
    "#     2) 若為字串, 將 word 字串反轉後回傳\n",
    "\n",
    "## 期望: answer3(\"ABCDE\") -> \"EDCBA\"\n",
    "\n",
    "def answer3(word):\n",
    "    ### if 漂亮！！！\n",
    "    if type(word) != str:\n",
    "        print(\"[*] word must be str.\")\n",
    "        return\n",
    "    \n",
    "    return word[::-1]\n",
    "    \n",
    "    ### if-else 較不漂亮\n",
    "#     if type(word) != str:\n",
    "#         print(\"[*] word must be str.\")\n",
    "#     else:\n",
    "#         # str 解法\n",
    "#         return word[::-1]\n",
    "        \n",
    "        # for-loop 解法\n",
    "#         message = \"\"\n",
    "        \n",
    "#         for w in word:\n",
    "#             message = w + message\n",
    "#             # message = message + w \n",
    "#             # print(w)\n",
    "        \n",
    "#         return message \n",
    "\n",
    "answer3(12345)\n",
    "        \n",
    "result3 = answer3(\"ABCDE\")  \n",
    "print(result3)\n",
    "\n",
    "result4 = answer3(\"This is a book ~~\")\n",
    "print(result4)\n",
    "\n",
    "result5 = answer3(\"今天禮拜五, 外面好冷啊～\")\n",
    "print(result5)"
   ]
  },
  {
   "cell_type": "code",
   "execution_count": 69,
   "id": "5896aecd",
   "metadata": {},
   "outputs": [
    {
     "name": "stdout",
     "output_type": "stream",
     "text": [
      "<class 'str'>\n",
      "True\n",
      "False\n",
      "False\n",
      "--------------------------------------------------------------------------------\n",
      "!!! elppa a si sihT\n",
      "s is\n",
      "Thi\n",
      " al!\n",
      "!!epaas iT\n"
     ]
    }
   ],
   "source": [
    "### [補充] 用 type 檢查是否為字串\n",
    "print(type(\"Jeff\"))\n",
    "print(type(\"Jeff\") == str)\n",
    "print(type(\"Jeff\") == float)\n",
    "print(type(12345) == str)\n",
    "\n",
    "print(\"-\"*80)\n",
    "\n",
    "### [補充2] word[::-1] -> 字串反轉\n",
    "message2 = \"This is a apple !!!\"\n",
    "print( message2[::-1] )\n",
    "\n",
    "# message2[start:end:step]\n",
    "# start -> 起點\n",
    "# end   -> 終點\n",
    "# step  -> 相隔幾個字元\n",
    "\n",
    "print(message2[3:7])\n",
    "print(message2[:3])\n",
    "print(message2[7::3])\n",
    "print(message2[::-2])\n"
   ]
  },
  {
   "cell_type": "code",
   "execution_count": 84,
   "id": "06aa2add",
   "metadata": {},
   "outputs": [
    {
     "name": "stdout",
     "output_type": "stream",
     "text": [
      "2\n"
     ]
    }
   ],
   "source": [
    "# 4. 費氏數列為 1,1,2,3,5,8,13,21,… \n",
    "#     試設計一 func , 輸入為 n , 回傳第 n 項費氏數列之值\n",
    "## 解法:\n",
    "## 1) for-loop \n",
    "## 2) recursive \n",
    "## 3) dynamic programming (dp)\n",
    "\n",
    "def fibonacci(n):\n",
    "    # n 為 1 or 2 的處理\n",
    "    if n == 1 or n == 2:\n",
    "        return 1\n",
    "    \n",
    "    # n > 2 的處理\n",
    "    # 以 n=5 為例 , 計算 3 次 -> range(1,4)\n",
    "    # 以 n=7 為例 , 計算 5 次 -> range(1,6)\n",
    "    # ...\n",
    "    # 以 n=n 為例 , 計算 n-2 次 -> range(1,n-1)\n",
    "    r = 0\n",
    "    a1 = 1\n",
    "    a2 = 1\n",
    "    for i in range(1,n-1):\n",
    "        r = a1 + a2   # 得到新的 r 值\n",
    "        a1 = a2       # 將舊的 a2 值 傳給 a1 \n",
    "        a2 = r        # 將舊的 r 值 傳給 a2    \n",
    "        \n",
    "    return r\n",
    "        \n",
    "print( fibonacci(3) )"
   ]
  },
  {
   "cell_type": "code",
   "execution_count": 86,
   "id": "7b1096f7",
   "metadata": {
    "scrolled": true
   },
   "outputs": [
    {
     "name": "stdout",
     "output_type": "stream",
     "text": [
      "第 1 項費氏數列值為 : 1\n",
      "第 2 項費氏數列值為 : 1\n",
      "第 3 項費氏數列值為 : 2\n",
      "第 4 項費氏數列值為 : 3\n",
      "第 5 項費氏數列值為 : 5\n",
      "第 6 項費氏數列值為 : 8\n",
      "第 7 項費氏數列值為 : 13\n",
      "第 8 項費氏數列值為 : 21\n",
      "第 9 項費氏數列值為 : 34\n",
      "第 10 項費氏數列值為 : 55\n",
      "第 11 項費氏數列值為 : 89\n",
      "第 12 項費氏數列值為 : 144\n",
      "第 13 項費氏數列值為 : 233\n",
      "第 14 項費氏數列值為 : 377\n",
      "第 15 項費氏數列值為 : 610\n",
      "第 16 項費氏數列值為 : 987\n",
      "第 17 項費氏數列值為 : 1597\n",
      "第 18 項費氏數列值為 : 2584\n",
      "第 19 項費氏數列值為 : 4181\n",
      "第 20 項費氏數列值為 : 6765\n",
      "第 21 項費氏數列值為 : 10946\n",
      "第 22 項費氏數列值為 : 17711\n",
      "第 23 項費氏數列值為 : 28657\n",
      "第 24 項費氏數列值為 : 46368\n",
      "第 25 項費氏數列值為 : 75025\n",
      "第 26 項費氏數列值為 : 121393\n",
      "第 27 項費氏數列值為 : 196418\n",
      "第 28 項費氏數列值為 : 317811\n",
      "第 29 項費氏數列值為 : 514229\n",
      "第 30 項費氏數列值為 : 832040\n",
      "第 31 項費氏數列值為 : 1346269\n",
      "第 32 項費氏數列值為 : 2178309\n",
      "第 33 項費氏數列值為 : 3524578\n",
      "第 34 項費氏數列值為 : 5702887\n",
      "第 35 項費氏數列值為 : 9227465\n",
      "第 36 項費氏數列值為 : 14930352\n",
      "第 37 項費氏數列值為 : 24157817\n",
      "第 38 項費氏數列值為 : 39088169\n",
      "第 39 項費氏數列值為 : 63245986\n",
      "第 40 項費氏數列值為 : 102334155\n",
      "第 41 項費氏數列值為 : 165580141\n",
      "第 42 項費氏數列值為 : 267914296\n",
      "第 43 項費氏數列值為 : 433494437\n",
      "第 44 項費氏數列值為 : 701408733\n",
      "第 45 項費氏數列值為 : 1134903170\n",
      "第 46 項費氏數列值為 : 1836311903\n",
      "第 47 項費氏數列值為 : 2971215073\n",
      "第 48 項費氏數列值為 : 4807526976\n",
      "第 49 項費氏數列值為 : 7778742049\n",
      "第 50 項費氏數列值為 : 12586269025\n",
      "第 51 項費氏數列值為 : 20365011074\n",
      "第 52 項費氏數列值為 : 32951280099\n",
      "第 53 項費氏數列值為 : 53316291173\n",
      "第 54 項費氏數列值為 : 86267571272\n",
      "第 55 項費氏數列值為 : 139583862445\n",
      "第 56 項費氏數列值為 : 225851433717\n",
      "第 57 項費氏數列值為 : 365435296162\n",
      "第 58 項費氏數列值為 : 591286729879\n",
      "第 59 項費氏數列值為 : 956722026041\n",
      "第 60 項費氏數列值為 : 1548008755920\n",
      "第 61 項費氏數列值為 : 2504730781961\n",
      "第 62 項費氏數列值為 : 4052739537881\n",
      "第 63 項費氏數列值為 : 6557470319842\n",
      "第 64 項費氏數列值為 : 10610209857723\n",
      "第 65 項費氏數列值為 : 17167680177565\n",
      "第 66 項費氏數列值為 : 27777890035288\n",
      "第 67 項費氏數列值為 : 44945570212853\n",
      "第 68 項費氏數列值為 : 72723460248141\n",
      "第 69 項費氏數列值為 : 117669030460994\n",
      "第 70 項費氏數列值為 : 190392490709135\n",
      "第 71 項費氏數列值為 : 308061521170129\n",
      "第 72 項費氏數列值為 : 498454011879264\n",
      "第 73 項費氏數列值為 : 806515533049393\n",
      "第 74 項費氏數列值為 : 1304969544928657\n",
      "第 75 項費氏數列值為 : 2111485077978050\n",
      "第 76 項費氏數列值為 : 3416454622906707\n",
      "第 77 項費氏數列值為 : 5527939700884757\n",
      "第 78 項費氏數列值為 : 8944394323791464\n",
      "第 79 項費氏數列值為 : 14472334024676221\n",
      "第 80 項費氏數列值為 : 23416728348467685\n",
      "第 81 項費氏數列值為 : 37889062373143906\n",
      "第 82 項費氏數列值為 : 61305790721611591\n",
      "第 83 項費氏數列值為 : 99194853094755497\n",
      "第 84 項費氏數列值為 : 160500643816367088\n",
      "第 85 項費氏數列值為 : 259695496911122585\n",
      "第 86 項費氏數列值為 : 420196140727489673\n",
      "第 87 項費氏數列值為 : 679891637638612258\n",
      "第 88 項費氏數列值為 : 1100087778366101931\n",
      "第 89 項費氏數列值為 : 1779979416004714189\n",
      "第 90 項費氏數列值為 : 2880067194370816120\n",
      "第 91 項費氏數列值為 : 4660046610375530309\n",
      "第 92 項費氏數列值為 : 7540113804746346429\n",
      "第 93 項費氏數列值為 : 12200160415121876738\n",
      "第 94 項費氏數列值為 : 19740274219868223167\n",
      "第 95 項費氏數列值為 : 31940434634990099905\n",
      "第 96 項費氏數列值為 : 51680708854858323072\n",
      "第 97 項費氏數列值為 : 83621143489848422977\n",
      "第 98 項費氏數列值為 : 135301852344706746049\n",
      "第 99 項費氏數列值為 : 218922995834555169026\n"
     ]
    }
   ],
   "source": [
    "### 顯示 1 ~ 31 的 費氏數列值\n",
    "for i in range(1,100):\n",
    "    print(f\"第 {i} 項費氏數列值為 : {fibonacci(i)}\")"
   ]
  }
 ],
 "metadata": {
  "kernelspec": {
   "display_name": "Python 3 (ipykernel)",
   "language": "python",
   "name": "python3"
  },
  "language_info": {
   "codemirror_mode": {
    "name": "ipython",
    "version": 3
   },
   "file_extension": ".py",
   "mimetype": "text/x-python",
   "name": "python",
   "nbconvert_exporter": "python",
   "pygments_lexer": "ipython3",
   "version": "3.9.5"
  }
 },
 "nbformat": 4,
 "nbformat_minor": 5
}
