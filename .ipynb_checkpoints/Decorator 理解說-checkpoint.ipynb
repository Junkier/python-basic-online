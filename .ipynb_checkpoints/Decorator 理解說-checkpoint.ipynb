{
 "cells": [
  {
   "cell_type": "code",
   "execution_count": 18,
   "id": "9f955271",
   "metadata": {},
   "outputs": [
    {
     "name": "stdout",
     "output_type": "stream",
     "text": [
      "嗨嗨, 我是 jeff\n"
     ]
    }
   ],
   "source": [
    "# 1. 這是原本的 say_hello function\n",
    "###  沒啥用途, 就是丟入 name , 然後打招呼～\n",
    "def say_hello(name):\n",
    "    print(f\"嗨嗨, 我是 {name}\")\n",
    "    \n",
    "say_hello(\"jeff\")"
   ]
  },
  {
   "cell_type": "code",
   "execution_count": 38,
   "id": "469d4ce4",
   "metadata": {},
   "outputs": [
    {
     "name": "stdout",
     "output_type": "stream",
     "text": [
      "嗨嗨, 我是 jeff\n",
      "================================================================================\n",
      "現在時間 : 2022-05-18 14:32:42\n",
      "嗨嗨, 我是 jeff\n"
     ]
    }
   ],
   "source": [
    "# 2. 現在幫 say_hello 追加 print 時間的功能\n",
    "###  做法是 包在一個 add_time function 裡面, 在裡面呼叫 say_hello\n",
    "import arrow\n",
    "\n",
    "def add_time(func):\n",
    "    def wrap(name):\n",
    "        now = arrow.now().format(\"YYYY-MM-DD HH:mm:ss\")\n",
    "        print(f\"現在時間 : {now}\")\n",
    "        func(name)\n",
    "    return wrap\n",
    "\n",
    "def say_hello(name):\n",
    "    print(f\"嗨嗨, 我是 {name}\")\n",
    "    \n",
    "say_hello(\"jeff\")\n",
    "print(\"=\"*80)\n",
    "    \n",
    "# 把 say_hello 丟入 add_time 中, 建立出新的 say_hello_with_time \n",
    "# 再呼叫 say_hello_with_time 即可\n",
    "\n",
    "# 於是追加 顯示時間功能 成功！！！\n",
    "say_hello_with_time = add_time(say_hello)\n",
    "say_hello_with_time(\"jeff\")"
   ]
  },
  {
   "cell_type": "code",
   "execution_count": 40,
   "id": "92021700",
   "metadata": {},
   "outputs": [
    {
     "name": "stdout",
     "output_type": "stream",
     "text": [
      "嗨嗨, 我是 jeff\n",
      "------------------------------\n",
      "我今年 19 歲, 喔嗚嗚嗚\n",
      "------------------------------\n",
      "平常休閒是 打電動, ㄎㄎ\n",
      "================================================================================\n",
      "現在時間 : 2022-05-18 14:33:51\n",
      "嗨嗨, 我是 jeff\n",
      "------------------------------\n",
      "現在時間 : 2022-05-18 14:33:52\n",
      "我今年 19 歲, 喔嗚嗚嗚\n",
      "------------------------------\n",
      "現在時間 : 2022-05-18 14:33:53\n",
      "平常休閒是 打電動, ㄎㄎ\n"
     ]
    }
   ],
   "source": [
    "# 3. 萬一今天有 say_hello , say_my_age , say_my_interest 三個 function\n",
    "###  都想要追加 顯示時間功能 , 而且用 add_time 來包的話\n",
    "###  程式就會長得像下面這樣\n",
    "\n",
    "###  為了讓時間看起來有落差,我加入個 time.sleep 給它間隔一下\n",
    "\n",
    "import arrow, time\n",
    "\n",
    "def add_time(func):\n",
    "    def wrap(name):\n",
    "        time.sleep(0.7)\n",
    "        now = arrow.now().format(\"YYYY-MM-DD HH:mm:ss\")\n",
    "        print(f\"現在時間 : {now}\")\n",
    "        func(name)\n",
    "    return wrap\n",
    "\n",
    "def say_hello(name):\n",
    "    print(f\"嗨嗨, 我是 {name}\")\n",
    "\n",
    "def say_my_age(age):\n",
    "    print(f\"我今年 {age} 歲, 喔嗚嗚嗚\")\n",
    "    \n",
    "def say_my_interest(interest):\n",
    "    print(f\"平常休閒是 {interest}, ㄎㄎ\")\n",
    "    \n",
    "\n",
    "# 沒有顯示時間, 單純呼叫 function\n",
    "say_hello(\"jeff\")\n",
    "print(\"-\"*30)\n",
    "say_my_age(19)\n",
    "print(\"-\"*30)\n",
    "say_my_interest(\"打電動\")\n",
    "print(\"=\"*80)\n",
    "\n",
    "# 透過 add_time 再包一層後, 每個 function 就多了 顯示時間 功能啦～～～\n",
    "say_hello_with_time = add_time(say_hello)\n",
    "say_my_age_with_time = add_time(say_my_age)\n",
    "say_my_interest_with_time = add_time(say_my_interest)\n",
    "\n",
    "say_hello_with_time(\"jeff\")\n",
    "print(\"-\"*30)\n",
    "say_my_age_with_time(19)\n",
    "print(\"-\"*30)\n",
    "say_my_interest_with_time(\"打電動\")"
   ]
  },
  {
   "cell_type": "code",
   "execution_count": null,
   "id": "20fbb753",
   "metadata": {},
   "outputs": [],
   "source": [
    "# 4. 醜爆, 對吧？   程式交上去, 大概會被降半薪的那種"
   ]
  },
  {
   "cell_type": "code",
   "execution_count": 45,
   "id": "fb561afc",
   "metadata": {},
   "outputs": [
    {
     "name": "stdout",
     "output_type": "stream",
     "text": [
      "現在時間 : 2022-05-18 14:39:09\n",
      "嗨嗨, 我是 jeff\n",
      "------------------------------\n",
      "現在時間 : 2022-05-18 14:39:10\n",
      "我今年 19 歲, 喔嗚嗚嗚\n",
      "------------------------------\n",
      "現在時間 : 2022-05-18 14:39:10\n",
      "平常休閒是 打電動, ㄎㄎ\n",
      "================================================================================\n"
     ]
    }
   ],
   "source": [
    "# 5. 現在我們實作 decorator 的概念, 來改寫一下程式\n",
    "import arrow, time\n",
    "\n",
    "def add_time(func):\n",
    "    def wrap(name):\n",
    "        time.sleep(0.7)\n",
    "        now = arrow.now().format(\"YYYY-MM-DD HH:mm:ss\")\n",
    "        print(f\"現在時間 : {now}\")\n",
    "        func(name)\n",
    "    return wrap\n",
    "\n",
    "\n",
    "# function 前面, 加入 @add_time \n",
    "# 就完成 decorator 的包覆功能\n",
    "@add_time\n",
    "def say_hello(name):\n",
    "    print(f\"嗨嗨, 我是 {name}\")\n",
    "\n",
    "@add_time\n",
    "def say_my_age(age):\n",
    "    print(f\"我今年 {age} 歲, 喔嗚嗚嗚\")\n",
    "    \n",
    "# 可試著註解 @add_time , 就會回到原本當純的 function\n",
    "@add_time\n",
    "def say_my_interest(interest):\n",
    "    print(f\"平常休閒是 {interest}, ㄎㄎ\")\n",
    "    \n",
    "\n",
    "# 於是直接呼叫原本的 function , 自動就多了 顯示時間 功能啦～～～\n",
    "say_hello(\"jeff\")\n",
    "print(\"-\"*30)\n",
    "say_my_age(19)\n",
    "print(\"-\"*30)\n",
    "say_my_interest(\"打電動\")\n",
    "print(\"=\"*80)\n",
    "\n",
    "# 以下的爛寫法, 就不用管它了\n",
    "# say_hello_with_time = add_time(say_hello)\n",
    "# say_my_age_with_time = add_time(say_my_age)\n",
    "# say_my_interest_with_time = add_time(say_my_interest)\n",
    "\n",
    "# say_hello_with_time(\"jeff\")\n",
    "# print(\"-\"*30)\n",
    "# say_my_age_with_time(19)\n",
    "# print(\"-\"*30)\n",
    "# say_my_interest_with_time(\"打電動\")"
   ]
  },
  {
   "cell_type": "code",
   "execution_count": null,
   "id": "0b2e326a",
   "metadata": {},
   "outputs": [],
   "source": [
    "# 6. 是不是很好用啊？\n",
    "\n",
    "###  decorator 多用於 「幫 function 加工功能」 使用\n",
    "###  有點像是 OOP 上對 class 的 封裝 和 繼承 的樣子\n",
    "###  程式觀點來看, 會有一種 「外面包了一層 function」的感覺, 如附圖1-左\n",
    "###  就是上面用的範例～～\n",
    "\n",
    "###  但用人類的角度, 從 執行順序 來想, 我覺得比較好理解, 如附圖1-右\n",
    "###  蠻類似 Node.js 語言中, 一個叫做 Middleware 的物件\n",
    "###  含義是 「先執行該 function , 過關了才往後執行下一個 function 」\n",
    "###  於是在 Django / Flask 中, 多被拿來做「API 比對, 身份驗證用」 等等\n",
    "\n",
    "###  例如 Flask 裡\n",
    "###    @app.route(\"/\")\n",
    "###    def hello():\n",
    "###        return \"Hello, World!\"\n",
    "###  這算是 API 路徑比對用\n",
    "\n",
    "###    @login_check\n",
    "###    @app.route(\"/product/<prodNo>\")\n",
    "###    def get_product_detail(prodNo):\n",
    "###        # do something...\n",
    "###  這是先檢查是否登入 , 過關了再比對 API 路徑\n",
    "###  符合的話, 就透過 prodNo 取出 product 的詳細資料\n",
    "\n",
    "###  大概是這樣嘿, 再看其他文件, 我想會比較好理解了～\n",
    "###  以上！"
   ]
  }
 ],
 "metadata": {
  "kernelspec": {
   "display_name": "Python 3 (ipykernel)",
   "language": "python",
   "name": "python3"
  },
  "language_info": {
   "codemirror_mode": {
    "name": "ipython",
    "version": 3
   },
   "file_extension": ".py",
   "mimetype": "text/x-python",
   "name": "python",
   "nbconvert_exporter": "python",
   "pygments_lexer": "ipython3",
   "version": "3.9.5"
  }
 },
 "nbformat": 4,
 "nbformat_minor": 5
}
