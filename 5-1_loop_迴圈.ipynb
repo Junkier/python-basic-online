{
 "cells": [
  {
   "cell_type": "code",
   "execution_count": 6,
   "id": "a1c3dfe5",
   "metadata": {},
   "outputs": [
    {
     "name": "stdout",
     "output_type": "stream",
     "text": [
      "No : 1 , Name : Jeff , Math : 100 , Eng : 87\n",
      "--------------------------------------------------------------------------------\n",
      "No : 2 , Name : Leo , Math : 67 , Eng : 99\n",
      "--------------------------------------------------------------------------------\n",
      "No : 3 , Name : Keven , Math : 72 , Eng : 92\n"
     ]
    }
   ],
   "source": [
    "### dict in list\n",
    "data3 = [\n",
    "    { \"name\" : \"Jeff\"  , \"no\" : 1 , \"math\" : 100 , \"eng\" : 87 },\n",
    "    { \"name\" : \"Leo\"   , \"no\" : 2 , \"math\" : 67  , \"eng\" : 99 },\n",
    "    { \"name\" : \"Keven\" , \"no\" : 3 , \"math\" : 72  , \"eng\" : 92 },\n",
    "    { \"name\" : \"Jenny\" , \"no\" : 4 , \"math\" : 89  , \"eng\" : 33 },\n",
    "    { \"name\" : \"Holy\"  , \"no\" : 5 , \"math\" : 97  , \"eng\" : 61 }\n",
    "]\n",
    "\n",
    "\n",
    "# 顯示學生名字 & 成績\n",
    "# data3[0] -> { \"name\" : \"Jeff\"  , \"no\" : 1 , \"math\" : 100 , \"eng\" : 87 }\n",
    "no1 = data3[0][\"no\"]\n",
    "name1 = data3[0][\"name\"]\n",
    "math1 = data3[0][\"math\"]\n",
    "eng1  = data3[0][\"eng\"]\n",
    "\n",
    "print(f\"No : {no1} , Name : {name1} , Math : {math1} , Eng : {eng1}\")\n",
    "\n",
    "print(\"-\"*80)\n",
    "\n",
    "no2 = data3[1][\"no\"]\n",
    "name2 = data3[1][\"name\"]\n",
    "math2 = data3[1][\"math\"]\n",
    "eng2  = data3[1][\"eng\"]\n",
    "\n",
    "print(f\"No : {no2} , Name : {name2} , Math : {math2} , Eng : {eng2}\")\n",
    "\n",
    "print(\"-\"*80)\n",
    "\n",
    "no3 = data3[2][\"no\"]\n",
    "name3 = data3[2][\"name\"]\n",
    "math3 = data3[2][\"math\"]\n",
    "eng3  = data3[2][\"eng\"]\n",
    "\n",
    "print(f\"No : {no3} , Name : {name3} , Math : {math3} , Eng : {eng3}\")"
   ]
  },
  {
   "cell_type": "code",
   "execution_count": 7,
   "id": "1d371699",
   "metadata": {},
   "outputs": [
    {
     "name": "stdout",
     "output_type": "stream",
     "text": [
      "Start !!!\n",
      "No : 1 , Name : Jeff , Math : 100 , Eng : 87\n",
      "No : 2 , Name : Leo , Math : 67 , Eng : 99\n",
      "No : 3 , Name : Keven , Math : 72 , Eng : 92\n",
      "No : 4 , Name : Jenny , Math : 89 , Eng : 33\n",
      "No : 5 , Name : Holy , Math : 97 , Eng : 61\n",
      "Done !!!\n"
     ]
    }
   ],
   "source": [
    "### 迴圈 (Loop)\n",
    "data3 = [\n",
    "    { \"name\" : \"Jeff\"  , \"no\" : 1 , \"math\" : 100 , \"eng\" : 87 },\n",
    "    { \"name\" : \"Leo\"   , \"no\" : 2 , \"math\" : 67  , \"eng\" : 99 },\n",
    "    { \"name\" : \"Keven\" , \"no\" : 3 , \"math\" : 72  , \"eng\" : 92 },\n",
    "    { \"name\" : \"Jenny\" , \"no\" : 4 , \"math\" : 89  , \"eng\" : 33 },\n",
    "    { \"name\" : \"Holy\"  , \"no\" : 5 , \"math\" : 97  , \"eng\" : 61 }\n",
    "]\n",
    "\n",
    "print(\"Start !!!\")\n",
    "\n",
    "\n",
    "# 開始迭代 (逐次執行)\n",
    "for element in data3:\n",
    "    ## element 會是 data3 裡面的 dict 資料 \n",
    "    no = element[\"no\"]\n",
    "    name = element[\"name\"]\n",
    "    math = element[\"math\"]\n",
    "    eng  = element[\"eng\"]\n",
    "    \n",
    "    print(f\"No : {no} , Name : {name} , Math : {math} , Eng : {eng}\")\n",
    "    \n",
    "print(\"Done !!!\")"
   ]
  },
  {
   "cell_type": "code",
   "execution_count": 18,
   "id": "3cc20436",
   "metadata": {},
   "outputs": [
    {
     "name": "stdout",
     "output_type": "stream",
     "text": [
      "--------------------------------------------------------------------------------\n",
      "執行 range(3,8)\n",
      "嗨嗨, 我是 Number 3\n",
      "嗨嗨, 我是 Number 4\n",
      "嗨嗨, 我是 Number 5\n",
      "嗨嗨, 我是 Number 6\n",
      "嗨嗨, 我是 Number 7\n",
      "--------------------------------------------------------------------------------\n",
      "for-loop 裡面有 if-else\n",
      "嗨嗨, 我是偶數 : 2\n",
      "嗨嗨, 我是偶數 : 4\n",
      "嗨嗨, 我是偶數 : 6\n",
      "嗨嗨, 我是偶數 : 8\n",
      "嗨嗨, 我是偶數 : 10\n",
      "嗨嗨, 我是偶數 : 12\n",
      "嗨嗨, 我是偶數 : 14\n",
      "嗨嗨, 我是偶數 : 16\n",
      "嗨嗨, 我是偶數 : 18\n"
     ]
    }
   ],
   "source": [
    "# range(1,10) -> 產生 1 ~ 9 的數字, 為 [1,2,3,4,5,6,7,8,9]\n",
    "\n",
    "# for 變數 in 迭代資料 (ex: list):\n",
    "#     執行區塊\n",
    "\n",
    "# for i in range(1,10):\n",
    "#     print(i)\n",
    "#     print(\"嗨嗨, 我是阿軒\")\n",
    "#     print(f\"第 {i} 次 迭代\")\n",
    "    \n",
    "print(\"-\"*80)\n",
    "\n",
    "print(\"執行 range(3,8)\")\n",
    "for i in range(3,8):\n",
    "    print(f\"嗨嗨, 我是 Number {i}\")\n",
    "    \n",
    "print(\"-\"*80)\n",
    "\n",
    "print(\"for-loop 裡面有 if-else\")\n",
    "\n",
    "for j in range(1,20):\n",
    "    # 顯示 偶數的數字\n",
    "    if j % 2 == 0:\n",
    "        print(f\"嗨嗨, 我是偶數 : {j}\")\n"
   ]
  },
  {
   "cell_type": "code",
   "execution_count": 23,
   "id": "9402cefd",
   "metadata": {},
   "outputs": [
    {
     "name": "stdout",
     "output_type": "stream",
     "text": [
      "1\n",
      "2\n",
      "3\n",
      "4\n",
      "5\n",
      "--------------------------------------------------------------------------------\n",
      "4\n",
      "5\n",
      "6\n",
      "7\n",
      "8\n",
      "--------------------------------------------------------------------------------\n",
      "apple\n",
      "banana\n",
      "cat\n",
      "dog\n",
      "--------------------------------------------------------------------------------\n",
      "name jeff\n",
      "age 18\n",
      "message 嗨嗨, 今天禮拜六\n"
     ]
    }
   ],
   "source": [
    "### range\n",
    "for i in range(1,6):\n",
    "    print(i)\n",
    "    \n",
    "print(\"-\"*80)\n",
    "    \n",
    "### list \n",
    "for j in [4,5,6,7,8]:\n",
    "    print(j)\n",
    "    \n",
    "print(\"-\"*80)\n",
    "\n",
    "for word in [\"apple\",\"banana\",\"cat\",\"dog\"]:\n",
    "    print(word)\n",
    "    \n",
    "print(\"-\"*80)\n",
    "    \n",
    "### dict \n",
    "dict5 = { \n",
    "    \"name\" : \"jeff\", \n",
    "    \"age\" : 18 , \n",
    "    \"message\" : \"嗨嗨, 今天禮拜六\"\n",
    "}\n",
    "for key in dict5:\n",
    "    # key = \"name\"\n",
    "    ## -> print(\"name\" , dict5[\"name\"])\n",
    "    print(key , dict5[key])\n",
    "    \n",
    "    # key = \"age\"\n",
    "    ## -> print(\"age\" , dict5[\"age\"])\n",
    "    \n",
    "    # key = \"message\"\n",
    "    ## -> print(\"message\" , dict5[\"message\"])"
   ]
  },
  {
   "cell_type": "code",
   "execution_count": 26,
   "id": "d4a19a3b",
   "metadata": {
    "scrolled": false
   },
   "outputs": [
    {
     "name": "stdout",
     "output_type": "stream",
     "text": [
      "嗨\n",
      "嗨\n",
      " \n",
      ",\n",
      " \n",
      "今\n",
      "天\n",
      "好\n",
      "熱\n",
      "啊\n",
      "--------------------------------------------------------------------------------\n",
      "T\n",
      "h\n",
      "i\n",
      "s\n",
      " \n",
      "i\n",
      "s\n",
      " \n",
      "a\n",
      " \n",
      "b\n",
      "o\n",
      "o\n",
      "k\n",
      " \n",
      "~\n",
      "~\n",
      "--------------------------------------------------------------------------------\n",
      "{'name': 'Jeff', 'age': 18}\n",
      "{'name': 'Leo', 'age': 20}\n",
      "{'name': 'Keven', 'age': 22}\n"
     ]
    }
   ],
   "source": [
    "### str\n",
    "message5 = \"嗨嗨 , 今天好熱啊\"\n",
    "\n",
    "for w in message5:\n",
    "    print(w)\n",
    "    \n",
    "print(\"-\"*80)\n",
    "\n",
    "message6 = \"This is a book ~~\"\n",
    "\n",
    "for w in message6:\n",
    "    print(w)\n",
    "    \n",
    "print(\"-\"*80)\n",
    "\n",
    "### dict in list\n",
    "data6 = [\n",
    "    { \"name\" : \"Jeff\" , \"age\" : 18},\n",
    "    { \"name\" : \"Leo\"   , \"age\" : 20},\n",
    "    { \"name\" : \"Keven\" , \"age\" : 22},\n",
    "]\n",
    "\n",
    "for element in data6:\n",
    "    print(element)"
   ]
  },
  {
   "cell_type": "code",
   "execution_count": 31,
   "id": "ec1f8529",
   "metadata": {
    "scrolled": true
   },
   "outputs": [
    {
     "name": "stdout",
     "output_type": "stream",
     "text": [
      "總和是 : 5050\n"
     ]
    }
   ],
   "source": [
    "### 小試身手 3-1\n",
    "# 1. 計算 1+2+3+…+100 之總和\n",
    "# hint : sum = sum + i \n",
    "\n",
    "total = 0\n",
    "\n",
    "for i in range(1,101):\n",
    "    total = total + i\n",
    "    # print(f\"i={i} , 總和是 {total}\")\n",
    "    \n",
    "    ### 分解動作\n",
    "    # i=1 \n",
    "    # -> total = 0 + (1) = 1\n",
    "    \n",
    "    # i=2\n",
    "    # -> total = 1 + (2) = 1+2\n",
    "    \n",
    "    # i=3\n",
    "    # -> total = 1+2 + (3) = 1+2+3 \n",
    "    \n",
    "    # ...\n",
    "    \n",
    "    # i=100\n",
    "    # -> total = 1+2+3+...+99 + 100 = 1+2+3+...+100\n",
    "    ###\n",
    "    \n",
    "print(f\"總和是 : {total}\")"
   ]
  },
  {
   "cell_type": "code",
   "execution_count": 40,
   "id": "d01ee699",
   "metadata": {},
   "outputs": [
    {
     "name": "stdout",
     "output_type": "stream",
     "text": [
      "******\n",
      "*****\n",
      "****\n",
      "***\n",
      "**\n",
      "*\n",
      "--------------------------------------------------------------------------------\n",
      "2\n",
      "9\n",
      "16\n",
      "23\n",
      "30\n"
     ]
    }
   ],
   "source": [
    "# 2. 試撰寫一程式 , 列印出以下圖形\n",
    "#      ******\n",
    "#      *****\n",
    "#      ****\n",
    "#      ***\n",
    "#      **\n",
    "#      *\n",
    "# hint : print(\"-\"*80)\n",
    "\n",
    "\n",
    "### 法一: range 倒著走\n",
    "# for i in range(6,0,-1):\n",
    "#     # print(i)\n",
    "#     print(\"*\" * i )\n",
    "    \n",
    "    \n",
    "### 法二: range 正著走\n",
    "for i in range(1,7):\n",
    "    # print(7-i)\n",
    "    print(\"*\" * (7-i))\n",
    "    \n",
    "    \n",
    "### [補充] range(start , end ,step)\n",
    "# start -> 起點\n",
    "# end   -> 終點\n",
    "# step  -> 步伐\n",
    "\n",
    "print(\"-\"*80)\n",
    "\n",
    "for j in range(2,34,7):\n",
    "    print(j)"
   ]
  },
  {
   "cell_type": "code",
   "execution_count": 49,
   "id": "d27110be",
   "metadata": {},
   "outputs": [
    {
     "name": "stdout",
     "output_type": "stream",
     "text": [
      "JJJJJ\n",
      "aaaa\n",
      "ccc\n",
      "kk\n",
      "!\n"
     ]
    }
   ],
   "source": [
    "# 3.  有一變數 name=\"Jack!\" , 試撰寫一程式 , 列印出下列訊息\n",
    "#     JJJJJ\n",
    "#     aaaa\n",
    "#     ccc\n",
    "#     kk\n",
    "#     !\n",
    "\n",
    "name = \"Jack!\"\n",
    "cnt = 5\n",
    "\n",
    "for w in name:\n",
    "    # print(w,cnt)\n",
    "    # cnt = cnt - 1\n",
    "    \n",
    "    print(w * cnt)\n",
    "    cnt -= 1 \n",
    "    \n",
    "    ### [補充]\n",
    "    # 新的 cnt = 舊的 cnt - 1\n",
    "    ## 簡寫 -> cnt -= 1\n",
    "    "
   ]
  },
  {
   "cell_type": "code",
   "execution_count": 51,
   "id": "90ca3d25",
   "metadata": {},
   "outputs": [
    {
     "name": "stdout",
     "output_type": "stream",
     "text": [
      "55\n"
     ]
    }
   ],
   "source": [
    "total = 0 \n",
    "for i in range(1,11):\n",
    "    # total = total + i\n",
    "    total += i \n",
    "print(total)"
   ]
  },
  {
   "cell_type": "code",
   "execution_count": 117,
   "id": "b04d91c2",
   "metadata": {},
   "outputs": [
    {
     "name": "stdout",
     "output_type": "stream",
     "text": [
      "0.7281527045651225\n",
      "14\n",
      "--------------------------------------------------------------------------------\n",
      "[4, 5, 13, 17, 29, 47]\n"
     ]
    }
   ],
   "source": [
    "# 大樂透 01~49 可重複地抽6號碼\n",
    "import random ## 加載 random 套件\n",
    "\n",
    "print( random.random() )\n",
    "print( random.randint(10,20) )\n",
    "print(\"-\"*80)\n",
    "\n",
    "data = []\n",
    "\n",
    "### 號碼可重複\n",
    "# for i in range(1,7):\n",
    "#     # print(i)\n",
    "#     num = random.randint(1,49)\n",
    "#     # print(num)\n",
    "#     data.append(num)\n",
    "\n",
    "# print(data)\n",
    "\n",
    "### 號碼不重複\n",
    "for i in range(1,20):\n",
    "    num = random.randint(1,49)\n",
    "    \n",
    "    if num not in data:   # 如果 num 不在 data 這個 list 裡面\n",
    "        data.append(num)  # 把  num 放入 data 裡\n",
    "        \n",
    "    if len(data) == 6:\n",
    "        # 結束迴圈\n",
    "        break \n",
    "        \n",
    "# print(data)\n",
    "print( sorted(data)  )"
   ]
  },
  {
   "cell_type": "code",
   "execution_count": 122,
   "id": "39d26762",
   "metadata": {},
   "outputs": [
    {
     "name": "stdout",
     "output_type": "stream",
     "text": [
      "[-33, -2, 0, 12, 15, 99]\n",
      "[99, 15, 12, 0, -2, -33]\n",
      "--------------------------------------------------------------------------------\n",
      "{'name': 'Leo', 'no': 2, 'math': 67, 'eng': 99}\n",
      "{'name': 'Keven', 'no': 3, 'math': 72, 'eng': 92}\n",
      "{'name': 'Jeff', 'no': 1, 'math': 100, 'eng': 87}\n",
      "{'name': 'Holy', 'no': 5, 'math': 97, 'eng': 61}\n",
      "{'name': 'Jenny', 'no': 4, 'math': 89, 'eng': 33}\n"
     ]
    }
   ],
   "source": [
    "### 補充2 , sorted \n",
    "a = [-2,0,12,15,-33,99]\n",
    "print( sorted(a) )\n",
    "print( sorted(a , reverse = True )    )\n",
    "\n",
    "print(\"-\"*80)\n",
    "\n",
    "\n",
    "# dict in list 的資料排序\n",
    "b = [\n",
    "    { \"name\" : \"Jeff\"  , \"no\" : 1 , \"math\" : 100 , \"eng\" : 87 },\n",
    "    { \"name\" : \"Leo\"   , \"no\" : 2 , \"math\" : 67  , \"eng\" : 99 },\n",
    "    { \"name\" : \"Keven\" , \"no\" : 3 , \"math\" : 72  , \"eng\" : 92 },\n",
    "    { \"name\" : \"Jenny\" , \"no\" : 4 , \"math\" : 89  , \"eng\" : 33 },\n",
    "    { \"name\" : \"Holy\"  , \"no\" : 5 , \"math\" : 97  , \"eng\" : 61 }\n",
    "]\n",
    "\n",
    "result = sorted(b , key = lambda ele: ele[\"eng\"] , reverse = True)\n",
    "for element in result:\n",
    "    print(element)"
   ]
  },
  {
   "cell_type": "code",
   "execution_count": 125,
   "id": "716bb2be",
   "metadata": {},
   "outputs": [
    {
     "name": "stdout",
     "output_type": "stream",
     "text": [
      "第 1 次執行\n",
      "第 2 次執行\n",
      "第 3 次執行\n",
      "第 4 次執行\n",
      "第 5 次執行\n",
      "第 6 次執行\n",
      "第 7 次執行\n",
      "第 8 次執行\n",
      "第 9 次執行\n",
      "第 10 次執行\n",
      "Done !\n"
     ]
    }
   ],
   "source": [
    "### while-loop (條件迴圈)\n",
    "cnt = 0\n",
    "\n",
    "while cnt < 10:  # 只要 (條件符合): \n",
    "    cnt += 1\n",
    "    print(f\"第 {cnt} 次執行\")\n",
    "    \n",
    "print(\"Done !\")"
   ]
  },
  {
   "cell_type": "code",
   "execution_count": 135,
   "id": "2eff554c",
   "metadata": {},
   "outputs": [
    {
     "name": "stdout",
     "output_type": "stream",
     "text": [
      "總和 : 5050\n",
      "--------------------------------------------------------------------------------\n",
      "******\n",
      "*****\n",
      "****\n",
      "***\n",
      "**\n",
      "*\n",
      "--------------------------------------------------------------------------------\n",
      "AAAAAAA\n",
      "pppppp\n",
      "ppppp\n",
      "llll\n",
      "eee\n",
      "!!\n",
      "!\n"
     ]
    }
   ],
   "source": [
    "### 小試身手 3-1\n",
    "# 1. 計算 1+2+3+…+100 之總和\n",
    "i = 1\n",
    "total = 0\n",
    "while i <= 100:\n",
    "    total += i\n",
    "    i += 1\n",
    "print(f\"總和 : {total}\")\n",
    "\n",
    "print(\"-\" * 80)\n",
    "\n",
    "# 2. 試撰寫一程式 , 列印出以下圖形\n",
    "#      ******\n",
    "#      *****\n",
    "#      ****\n",
    "#      ***\n",
    "#      **\n",
    "#      *\n",
    "j = 6\n",
    "while j > 0:\n",
    "    print(\"*\" * j)\n",
    "    j -= 1\n",
    "\n",
    "print(\"-\" * 80)\n",
    "\n",
    "# 3.  有一變數 name=\"Jack!\" , 試撰寫一程式 , 列印出下列訊息\n",
    "#     JJJJJ\n",
    "#     aaaa\n",
    "#     ccc\n",
    "#     kk\n",
    "#     !\n",
    "name = \"Apple!!\"\n",
    "k = 0\n",
    "str_len = len(name)\n",
    "\n",
    "while k < str_len:\n",
    "    w = name[k]\n",
    "    print(w * (str_len-k))\n",
    "    k += 1"
   ]
  },
  {
   "cell_type": "code",
   "execution_count": 141,
   "id": "eefb8955",
   "metadata": {},
   "outputs": [
    {
     "name": "stdout",
     "output_type": "stream",
     "text": [
      "號碼是 : [1, 9, 11, 33, 37, 40]\n"
     ]
    }
   ],
   "source": [
    "# 大樂透 01~49 不重複地抽6號碼\n",
    "import random\n",
    "data2 = []\n",
    "\n",
    "while len(data2) < 6:\n",
    "    num = random.randint(1,49)\n",
    "    if num not in data2:\n",
    "        data2.append(num)\n",
    "        \n",
    "print(f\"號碼是 : { sorted(data2) }\")"
   ]
  },
  {
   "cell_type": "code",
   "execution_count": 147,
   "id": "ee21f41f",
   "metadata": {},
   "outputs": [
    {
     "name": "stdout",
     "output_type": "stream",
     "text": [
      "Start !!!\n",
      "第一層迴圈 , 第 1 次迭代\n",
      "0 a\n",
      "0 b\n",
      "0 c\n",
      "--------------------------------------------------------------------------------\n",
      "第一層迴圈 , 第 2 次迭代\n",
      "1 a\n",
      "1 b\n",
      "1 c\n",
      "--------------------------------------------------------------------------------\n",
      "第一層迴圈 , 第 3 次迭代\n",
      "2 a\n",
      "2 b\n",
      "2 c\n",
      "--------------------------------------------------------------------------------\n",
      "第一層迴圈 , 第 4 次迭代\n",
      "3 a\n",
      "3 b\n",
      "3 c\n",
      "--------------------------------------------------------------------------------\n",
      "第一層迴圈 , 第 5 次迭代\n",
      "4 a\n",
      "4 b\n",
      "4 c\n",
      "--------------------------------------------------------------------------------\n",
      "Done !!!\n"
     ]
    }
   ],
   "source": [
    "### 雙重迴圈 (巢狀迴圈)\n",
    "\n",
    "print(\"Start !!!\")\n",
    "\n",
    "# 第一層迴圈\n",
    "for i in range(5):\n",
    "    print(f\"第一層迴圈 , 第 {i+1} 次迭代\")\n",
    "    \n",
    "    # 第二層迴圈\n",
    "    for w in [\"a\",\"b\",\"c\"]:\n",
    "        print(i,w)\n",
    "        \n",
    "    print(\"-\"*80)\n",
    "    \n",
    "print(\"Done !!!\")"
   ]
  },
  {
   "cell_type": "code",
   "execution_count": 193,
   "id": "8094ae44",
   "metadata": {
    "scrolled": true
   },
   "outputs": [],
   "source": [
    "### 9x9 乘法表\n",
    "\n",
    "# 1x1=1\n",
    "# 1x2=2\n",
    "# 1x3=3\n",
    "# ...\n",
    "# 1x9=9\n",
    "# 2x1=2\n",
    "# 2x2=4\n",
    "# ...\n",
    "# 9x9=81\n",
    "\n",
    "for i in range(1,10):\n",
    "    for j in range(1,10):\n",
    "        print(f\"{i} x {j} = { i*j }\")\n",
    "        # print( \"i=\" , i , \", j=\" , j )\n",
    "        "
   ]
  },
  {
   "cell_type": "code",
   "execution_count": 160,
   "id": "473461d8",
   "metadata": {},
   "outputs": [
    {
     "name": "stdout",
     "output_type": "stream",
     "text": [
      "******\n",
      "*****\n",
      "****\n",
      "***\n",
      "**\n",
      "*\n",
      "**\n",
      "***\n",
      "****\n",
      "*****\n",
      "******\n"
     ]
    }
   ],
   "source": [
    "# 回家試身手 #2-2\n",
    "\n",
    "# 1. 試撰寫一程式 , 列印出以下圖形\n",
    "#  ******\n",
    "#  *****\n",
    "#  ****\n",
    "#  ***\n",
    "#  **\n",
    "#  *\n",
    "#  **\n",
    "#  ***\n",
    "#  ****\n",
    "#  *****\n",
    "#  ******\n",
    "\n",
    "for i in range(1,12):\n",
    "    if i <=6:\n",
    "        print(\"*\" * (7-i) )\n",
    "    else:\n",
    "        print(\"*\" * (i-5) )"
   ]
  },
  {
   "cell_type": "code",
   "execution_count": 168,
   "id": "3d2b7b14",
   "metadata": {},
   "outputs": [
    {
     "name": "stdout",
     "output_type": "stream",
     "text": [
      "{'a': 4, 'b': 5, 'c': 5, 'd': 1, 'j': 1, 'k': 1, 'ss': 1}\n"
     ]
    }
   ],
   "source": [
    "# 2. 有一變數 data , 其值為 [\"a\", \"b\", \"c\", \"c\", \"c\", \"a\", \"d\", \"b\", \"b\", \"a\", \"c\"]\n",
    "#    試統計各字母出現次數 , 並以 dict 型式表達 , ex: result = { \"a\": 3 , \"b\": 6 , \"c\" : 5 , ...}\n",
    "data = [\"a\", \"b\", \"c\", \"c\", \"c\", \"a\", \"d\", \"b\", \"b\", \"a\", \"c\",\"j\",\"k\",\"b\",\"b\",\"c\",\"a\",\"ss\"]\n",
    "result = {}\n",
    "\n",
    "\n",
    "### Word count (字詞統計)\n",
    "for w in data:\n",
    "    # print(w)\n",
    "    \n",
    "    # 若 w 在   result 裡 -> value += 1\n",
    "    # 若 w 不在 result 裡 -> 幫 result 配一組新的 key-value pair , ex: \"a\" : 1\n",
    "    \n",
    "    if w in result:\n",
    "        result[w] += 1\n",
    "    else:\n",
    "        result[w] = 1\n",
    "        \n",
    "print(result)"
   ]
  },
  {
   "cell_type": "code",
   "execution_count": 166,
   "id": "43c279db",
   "metadata": {},
   "outputs": [
    {
     "name": "stdout",
     "output_type": "stream",
     "text": [
      "True\n",
      "True\n",
      "False\n",
      "{'name': 'jeff', 'age': 18, 'message': '嗨嗨', 'testqq': 1}\n",
      "{'name': 'jeff', 'age': 20, 'message': '嗨嗨', 'testqq': 1}\n"
     ]
    }
   ],
   "source": [
    "### dict 小複習\n",
    "sample = {\"name\" :\"jeff\" , \"age\" : 18 , \"message\" : \"嗨嗨\" }\n",
    "print(\"name\" in sample)\n",
    "print(\"age\" in sample)\n",
    "print(\"testqq\" in sample)\n",
    "\n",
    "sample[\"testqq\"] = 1\n",
    "print(sample)\n",
    "\n",
    "sample[\"age\"] += 2\n",
    "print(sample)"
   ]
  },
  {
   "cell_type": "code",
   "execution_count": 171,
   "id": "da8f7b38",
   "metadata": {},
   "outputs": [
    {
     "name": "stdout",
     "output_type": "stream",
     "text": [
      "Jeff, 嗨嗨, Jeff ~~~~\n",
      "Jeff, 嗨嗨, Jeff ~~~~, 今天禮拜六 , 好熱啊！！！\n"
     ]
    }
   ],
   "source": [
    "### 補充: str 疊加\n",
    "message1 = \"Jeff\"\n",
    "message1 += \", 嗨嗨, Jeff ~~~~\"\n",
    "print(message1)\n",
    "\n",
    "message1 += \", 今天禮拜六 , 好熱啊！！！\"\n",
    "print(message1)"
   ]
  },
  {
   "cell_type": "code",
   "execution_count": 176,
   "id": "487cbf6c",
   "metadata": {
    "scrolled": true
   },
   "outputs": [
    {
     "name": "stdout",
     "output_type": "stream",
     "text": [
      "1x1=1  1x2=2  1x3=3  1x4=4  1x5=5  1x6=6  1x7=7  1x8=8  1x9=9  \n",
      "2x1=2  2x2=4  2x3=6  2x4=8  2x5=10 2x6=12 2x7=14 2x8=16 2x9=18 \n",
      "3x1=3  3x2=6  3x3=9  3x4=12 3x5=15 3x6=18 3x7=21 3x8=24 3x9=27 \n",
      "4x1=4  4x2=8  4x3=12 4x4=16 4x5=20 4x6=24 4x7=28 4x8=32 4x9=36 \n",
      "5x1=5  5x2=10 5x3=15 5x4=20 5x5=25 5x6=30 5x7=35 5x8=40 5x9=45 \n",
      "6x1=6  6x2=12 6x3=18 6x4=24 6x5=30 6x6=36 6x7=42 6x8=48 6x9=54 \n",
      "7x1=7  7x2=14 7x3=21 7x4=28 7x5=35 7x6=42 7x7=49 7x8=56 7x9=63 \n",
      "8x1=8  8x2=16 8x3=24 8x4=32 8x5=40 8x6=48 8x7=56 8x8=64 8x9=72 \n",
      "9x1=9  9x2=18 9x3=27 9x4=36 9x5=45 9x6=54 9x7=63 9x8=72 9x9=81 \n"
     ]
    }
   ],
   "source": [
    "# 3. 試撰寫一程式 , 顯示九九乘法表\n",
    "#     (1) 顯示出結果即可\n",
    "#     (2) 排列成方陣的格式顯示\n",
    "\n",
    "# (1)\n",
    "# for i in range(1,10):\n",
    "#     for j in range(1,10):\n",
    "#         print(f\"{i} x {j} = {i*j}\")\n",
    "\n",
    "# (2)\n",
    "for i in range(1,10):\n",
    "    \n",
    "    # 先準備空字串\n",
    "    msg = \"\"\n",
    "    \n",
    "    # 跑第二層迴圈\n",
    "    for j in range(1,10):\n",
    "        \n",
    "        # 單 , 雙位數 -> 決定空白數\n",
    "        # space = \"\"\n",
    "        # if i*j >= 10:\n",
    "        #    space = \" \"  # 一個空白\n",
    "        # else:\n",
    "        #    space = \"  \" # 兩個空白\n",
    "        \n",
    "        space = \" \" if i*j >= 10 else \"  \"\n",
    "        \n",
    "        msg += f\"{i}x{j}={i*j}{space}\"\n",
    "        # print(f\"{i} x {j} = {i*j}\")\n",
    "        \n",
    "    # 再一次輸出顯示\n",
    "    print(msg)"
   ]
  },
  {
   "cell_type": "code",
   "execution_count": 184,
   "id": "fbf3ffbd",
   "metadata": {},
   "outputs": [
    {
     "name": "stdout",
     "output_type": "stream",
     "text": [
      "result1 : 正數！！！\n",
      "result2 : [2, 4, 6, 8, 10]\n",
      "result3 : [1, 8, 27, 64, 125]\n"
     ]
    }
   ],
   "source": [
    "### 補充\n",
    "# 1. 三元運算子\n",
    "a = 21\n",
    "# if a >0 :\n",
    "#     result = \"正數！！！\"\n",
    "# else :\n",
    "#     result = \"負數 ~~~\"\n",
    "\n",
    "result1 = \"正數！！！\" if a >0 else \"負數 ~~~\"\n",
    "print(f\"result1 : {result1}\")\n",
    "\n",
    "# 2. list comprehension\n",
    "b = [1,2,3,4,5]\n",
    "\n",
    "# 幫每一個元素 *2\n",
    "result2 = [ i*2 for i in b ]\n",
    "print(f\"result2 : {result2}\")\n",
    "\n",
    "# 幫每一個元素 三次方\n",
    "result3 = [ i**3  for i in b]\n",
    "print(f\"result3 : {result3}\")"
   ]
  },
  {
   "cell_type": "code",
   "execution_count": 191,
   "id": "cdf38e6b",
   "metadata": {},
   "outputs": [
    {
     "name": "stdout",
     "output_type": "stream",
     "text": [
      "Math sum: 477\n",
      "Math avg: 95.4\n",
      "Math max: 100\n",
      "--------------------------------------------------------------------------------\n",
      "Eng sum: 364\n",
      "Eng avg: 72.8\n",
      "Eng max: 87\n",
      "--------------------------------------------------------------------------------\n",
      "Chinese sum: 244\n",
      "Chinese avg: 48.8\n",
      "Chinese max: 95\n"
     ]
    }
   ],
   "source": [
    "math = [87,100,97,99,94]\n",
    "eng = [78,86,47,87,66]\n",
    "chinese = [10,95,61,53,25]\n",
    "\n",
    "print(f\"Math sum: { sum(math) }\")\n",
    "print(f\"Math avg: { sum(math) / len(math) }\")\n",
    "print(f\"Math max: { max(math) }\")\n",
    "\n",
    "print(\"-\"*80)\n",
    "    \n",
    "print(f\"Eng sum: { sum(eng) }\")\n",
    "print(f\"Eng avg: { sum(eng) / len(eng) }\")\n",
    "print(f\"Eng max: { max(eng) }\")\n",
    "\n",
    "print(\"-\"*80)\n",
    "\n",
    "print(f\"Chinese sum: { sum(chinese) }\")\n",
    "print(f\"Chinese avg: { sum(chinese) / len(chinese) }\")\n",
    "print(f\"Chinese max: { max(chinese) }\")"
   ]
  },
  {
   "cell_type": "code",
   "execution_count": null,
   "id": "7e77c35d",
   "metadata": {},
   "outputs": [],
   "source": [
    "### 函式 (function)"
   ]
  }
 ],
 "metadata": {
  "kernelspec": {
   "display_name": "Python 3 (ipykernel)",
   "language": "python",
   "name": "python3"
  },
  "language_info": {
   "codemirror_mode": {
    "name": "ipython",
    "version": 3
   },
   "file_extension": ".py",
   "mimetype": "text/x-python",
   "name": "python",
   "nbconvert_exporter": "python",
   "pygments_lexer": "ipython3",
   "version": "3.9.5"
  }
 },
 "nbformat": 4,
 "nbformat_minor": 5
}
