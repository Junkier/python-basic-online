{
 "cells": [
  {
   "cell_type": "code",
   "execution_count": 3,
   "id": "1da1ded8",
   "metadata": {},
   "outputs": [
    {
     "name": "stdout",
     "output_type": "stream",
     "text": [
      "請輸入長度:10\n",
      "請輸入寬度:10\n",
      "面積 : 100.0\n",
      "周長 : 40.0\n"
     ]
    }
   ],
   "source": [
    "## 1. 試寫一程式 , 提示使用者輸入長&寬 ,  計算此矩形的面積及周長\n",
    "#    (預期使用者會 聰明地 輸入數字)\n",
    "length = float(input(\"請輸入長度:\"))\n",
    "width  = float(input(\"請輸入寬度:\"))\n",
    "\n",
    "area  = length*width\n",
    "param = (length+width)*2\n",
    "\n",
    "print(\"面積 : {}\".format(area))\n",
    "print(\"周長 : {}\".format(param))"
   ]
  },
  {
   "cell_type": "code",
   "execution_count": 9,
   "id": "9b6dd99b",
   "metadata": {},
   "outputs": [
    {
     "name": "stdout",
     "output_type": "stream",
     "text": [
      "請輸入 a值 :-123\n",
      "請輸入 b值 :333\n",
      "請輸入 c值 :444\n",
      "判別式 : 329337\n",
      "兩根為 -0.979182549136379 , 3.6864996223071107\n"
     ]
    }
   ],
   "source": [
    "## 2. ax^2 + bx + c = 0 , 使用者輸入 a,b,c 整數\n",
    "#  1) 檢查 a 是否不為 0 ? \n",
    "#       V -> 繼續\n",
    "#       X -> 顯示 \"a 不可為 0 !!!\"\n",
    "#  2) 判別式 <0  --> 顯示 \"無實數解\"\n",
    "#     判別式 >=0 --> 顯示 \"兩根為 {alpha} , {beta}\" , alpha / beta 為兩根\n",
    "#     (預期使用者會 聰明地 輸入整數)   \n",
    "\n",
    "a = int(input(\"請輸入 a值 :\"))\n",
    "b = int(input(\"請輸入 b值 :\"))\n",
    "c = int(input(\"請輸入 c值 :\"))\n",
    "\n",
    "if a == 0:\n",
    "    print(\"a 不可為 0 !!!\")\n",
    "else:\n",
    "    D = b**2 - 4*a*c\n",
    "    print(\"判別式 : {}\".format(D))\n",
    "    if D <0 :\n",
    "        print(\"無實數解\")\n",
    "    else:\n",
    "        alpha = (-b + D ** 0.5) / (2*a)\n",
    "        beta  = (-b - D ** 0.5) / (2*a)\n",
    "        print(\"兩根為 {alpha} , {beta}\".format(alpha=alpha , beta=beta))"
   ]
  },
  {
   "cell_type": "code",
   "execution_count": 13,
   "id": "09d841cf",
   "metadata": {},
   "outputs": [
    {
     "name": "stdout",
     "output_type": "stream",
     "text": [
      "this is a lion.\n",
      "**** !! a book.\n",
      "this is an apple.\n",
      "--------------------------------------------------------------------------------\n",
      "this is an anpple.\n"
     ]
    }
   ],
   "source": [
    "## 3. 試寫一程式 ,  將此字串取代成不同的新字串 \n",
    "#       1)  \"this is a book.\"  -->  “this is a lion.”\n",
    "#       2)  \"this is a book.\"  -->  “**** !! a book.\"\n",
    "#       3)  \"this is a book.\"  -->  “this is an apple.”\n",
    "message = \"this is a book.\"\n",
    "\n",
    "print( message.replace(\"book\",\"lion\") )\n",
    "print( message.replace(\"this\",\"****\").replace(\"is\",\"!!\") )\n",
    "print( message.replace(\"a\",\"an\").replace(\"book\",\"apple\") )\n",
    "\n",
    "print(\"-\"*80)\n",
    "print( message.replace(\"book\",\"apple\").replace(\"a\",\"an\") )"
   ]
  },
  {
   "cell_type": "code",
   "execution_count": 15,
   "id": "02a00332",
   "metadata": {},
   "outputs": [
    {
     "name": "stdout",
     "output_type": "stream",
     "text": [
      "91\n",
      "82\n",
      "60\n",
      "37\n",
      "100\n",
      "總和 : 370\n",
      "平均 : 74.0\n"
     ]
    }
   ],
   "source": [
    "## 4. 宣告 5個變數儲存 學生數學成績 91,82,60,37,100 , 並計算總和 & 平均\n",
    "##         5個 -> 50 個\n",
    "##    做法不佳 ！！！\n",
    "student_1_math_score=91\n",
    "student_2_math_score=82\n",
    "student_3_math_score=60\n",
    "student_4_math_score=37\n",
    "student_5_math_score=100\n",
    "student_6_math_score=80\n",
    "student_7_math_score=99\n",
    "\n",
    "print(student_1_math_score)\n",
    "print(student_2_math_score)\n",
    "print(student_3_math_score)\n",
    "print(student_4_math_score)\n",
    "print(student_5_math_score)\n",
    "# ..修改\n",
    "\n",
    "scores_sum = student_1_math_score + student_2_math_score + student_3_math_score + student_4_math_score + student_5_math_score\n",
    "print(\"總和 : {}\".format(scores_sum))\n",
    "print(\"平均 : {}\".format(scores_sum /5)) # ..修改"
   ]
  },
  {
   "cell_type": "code",
   "execution_count": 17,
   "id": "a2cb6e08",
   "metadata": {},
   "outputs": [
    {
     "name": "stdout",
     "output_type": "stream",
     "text": [
      "總和 : 549\n",
      "平均 : 78.42857142857143\n"
     ]
    }
   ],
   "source": [
    "## 4. 宣告變數儲存 學生數學成績 91,82,60,37,100 , 並計算總和 & 平均\n",
    "math_scores = [91,82,60,37,100,80,99]  ### 此為 list (串列) 資料型別\n",
    "print(\"總和 : {}\".format( sum(math_scores) ))\n",
    "print(\"平均 : {}\".format( sum(math_scores) / len(math_scores) ))"
   ]
  }
 ],
 "metadata": {
  "kernelspec": {
   "display_name": "Python 3",
   "language": "python",
   "name": "python3"
  },
  "language_info": {
   "codemirror_mode": {
    "name": "ipython",
    "version": 3
   },
   "file_extension": ".py",
   "mimetype": "text/x-python",
   "name": "python",
   "nbconvert_exporter": "python",
   "pygments_lexer": "ipython3",
   "version": "3.8.8"
  }
 },
 "nbformat": 4,
 "nbformat_minor": 5
}
