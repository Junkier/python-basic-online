{
 "cells": [
  {
   "cell_type": "code",
   "execution_count": 12,
   "metadata": {},
   "outputs": [
    {
     "name": "stdout",
     "output_type": "stream",
     "text": [
      "False\n",
      "1\n",
      "2\n",
      "3\n",
      "True\n"
     ]
    }
   ],
   "source": [
    "import queue \n",
    "\n",
    "q = queue.Queue()\n",
    "\n",
    "q.put(1)\n",
    "q.put(2)\n",
    "q.put(3)\n",
    "\n",
    "print(q.empty())\n",
    "print(q.get())\n",
    "print(q.get())\n",
    "print(q.get())\n",
    "print(q.empty())"
   ]
  },
  {
   "cell_type": "code",
   "execution_count": 25,
   "metadata": {},
   "outputs": [
    {
     "name": "stdout",
     "output_type": "stream",
     "text": [
      "put 0\n",
      "put 1\n",
      "put 2\n",
      "put 3\n",
      "put 4\n",
      "0\n",
      "1\n",
      "2\n",
      "3\n",
      "4\n"
     ]
    },
    {
     "ename": "Empty",
     "evalue": "",
     "output_type": "error",
     "traceback": [
      "\u001b[0;31m---------------------------------------------------------------------------\u001b[0m",
      "\u001b[0;31mEmpty\u001b[0m                                     Traceback (most recent call last)",
      "\u001b[0;32m/var/folders/xf/699gcn4x1zqf0z8db2w02pq40000gn/T/ipykernel_20460/2485127247.py\u001b[0m in \u001b[0;36m<module>\u001b[0;34m\u001b[0m\n\u001b[1;32m      8\u001b[0m \u001b[0;32mwhile\u001b[0m \u001b[0;32mTrue\u001b[0m\u001b[0;34m:\u001b[0m\u001b[0;34m\u001b[0m\u001b[0;34m\u001b[0m\u001b[0m\n\u001b[1;32m      9\u001b[0m \u001b[0;31m# while q.qsize()>0:\u001b[0m\u001b[0;34m\u001b[0m\u001b[0;34m\u001b[0m\u001b[0;34m\u001b[0m\u001b[0m\n\u001b[0;32m---> 10\u001b[0;31m     \u001b[0mprint\u001b[0m\u001b[0;34m(\u001b[0m\u001b[0mq\u001b[0m\u001b[0;34m.\u001b[0m\u001b[0mget\u001b[0m\u001b[0;34m(\u001b[0m\u001b[0mblock\u001b[0m\u001b[0;34m=\u001b[0m\u001b[0;32mFalse\u001b[0m\u001b[0;34m)\u001b[0m\u001b[0;34m)\u001b[0m\u001b[0;34m\u001b[0m\u001b[0;34m\u001b[0m\u001b[0m\n\u001b[0m",
      "\u001b[0;32m~/miniconda3/lib/python3.9/queue.py\u001b[0m in \u001b[0;36mget\u001b[0;34m(self, block, timeout)\u001b[0m\n\u001b[1;32m    166\u001b[0m             \u001b[0;32mif\u001b[0m \u001b[0;32mnot\u001b[0m \u001b[0mblock\u001b[0m\u001b[0;34m:\u001b[0m\u001b[0;34m\u001b[0m\u001b[0;34m\u001b[0m\u001b[0m\n\u001b[1;32m    167\u001b[0m                 \u001b[0;32mif\u001b[0m \u001b[0;32mnot\u001b[0m \u001b[0mself\u001b[0m\u001b[0;34m.\u001b[0m\u001b[0m_qsize\u001b[0m\u001b[0;34m(\u001b[0m\u001b[0;34m)\u001b[0m\u001b[0;34m:\u001b[0m\u001b[0;34m\u001b[0m\u001b[0;34m\u001b[0m\u001b[0m\n\u001b[0;32m--> 168\u001b[0;31m                     \u001b[0;32mraise\u001b[0m \u001b[0mEmpty\u001b[0m\u001b[0;34m\u001b[0m\u001b[0;34m\u001b[0m\u001b[0m\n\u001b[0m\u001b[1;32m    169\u001b[0m             \u001b[0;32melif\u001b[0m \u001b[0mtimeout\u001b[0m \u001b[0;32mis\u001b[0m \u001b[0;32mNone\u001b[0m\u001b[0;34m:\u001b[0m\u001b[0;34m\u001b[0m\u001b[0;34m\u001b[0m\u001b[0m\n\u001b[1;32m    170\u001b[0m                 \u001b[0;32mwhile\u001b[0m \u001b[0;32mnot\u001b[0m \u001b[0mself\u001b[0m\u001b[0;34m.\u001b[0m\u001b[0m_qsize\u001b[0m\u001b[0;34m(\u001b[0m\u001b[0;34m)\u001b[0m\u001b[0;34m:\u001b[0m\u001b[0;34m\u001b[0m\u001b[0;34m\u001b[0m\u001b[0m\n",
      "\u001b[0;31mEmpty\u001b[0m: "
     ]
    }
   ],
   "source": [
    "q = queue.Queue(maxsize=10)\n",
    "\n",
    "for i in range(5):\n",
    "    q.put(i,block=False)\n",
    "    print(f\"put {i}\")\n",
    "\n",
    "    \n",
    "while True:\n",
    "# while q.qsize()>0:\n",
    "    print(q.get(block=False))"
   ]
  },
  {
   "cell_type": "code",
   "execution_count": 1,
   "metadata": {
    "scrolled": true
   },
   "outputs": [],
   "source": [
    "### ref: https://shengyu7697.github.io/python-queue/\n",
    "### Producer / Consumer with Queue !!!\n",
    "import queue , time ,random , threading\n",
    "\n",
    "q = queue.Queue(10)\n",
    "\n",
    "class Producer(threading.Thread):\n",
    "    def __init__(self,thread_name):\n",
    "        super(Producer,self).__init__(name=thread_name)\n",
    "        \n",
    "    def run(self):\n",
    "        global q \n",
    "        count = 1\n",
    "        while True:\n",
    "            if q.full():\n",
    "                print(\"queue is full\")\n",
    "                pass\n",
    "            \n",
    "            msg = str(count)\n",
    "            q.put(msg)\n",
    "            print(f'{self.name} put {msg} , qsize : {str(q.qsize())}\\n')\n",
    "            \n",
    "            count = count +1\n",
    "            time.sleep(random.random()*2)\n",
    "        \n",
    "class Consumer(threading.Thread):\n",
    "    def __init__(self,thread_name):\n",
    "        super(Consumer,self).__init__(name=thread_name)\n",
    "        \n",
    "    def run(self):\n",
    "        global q\n",
    "        while True:\n",
    "            if q.empty():\n",
    "                print(\"queue is empty\")\n",
    "                pass\n",
    "            \n",
    "            msg = q.get()\n",
    "            print(f'{self.name} get {msg} , qsize : {str(q.qsize())}\\n')\n",
    "            time.sleep(random.random()*3)\n",
    "        \n",
    "        \n",
    "p = Producer(\"producer\")\n",
    "p.start()\n",
    "\n",
    "c = Consumer(\"consumer\")\n",
    "c.start()\n"
   ]
  },
  {
   "cell_type": "code",
   "execution_count": 2,
   "metadata": {
    "scrolled": true
   },
   "outputs": [],
   "source": [
    "# ref: https://blog.csdn.net/brucewong0516/article/details/84587522\n",
    "# Producer / Consumer with Condition !!!\n",
    "import threading , time\n",
    "\n",
    "class Producer(threading.Thread):\n",
    "    def run(self):\n",
    "        global cnt\n",
    "        while True:\n",
    "            ### 此為 critical section 啦, 有 mutex 的人才可執行！\n",
    "            ### con.acquire() 取得某一個有 mutex 的 thread , 其餘只能繼續 waiting \n",
    "            if con.acquire():\n",
    "                if cnt >900:\n",
    "                    con.wait()\n",
    "                else:\n",
    "                    cnt += 100\n",
    "                    msg = f\"{self.name} produce 100, count ={str(cnt)}\"\n",
    "                    print(msg)\n",
    "                    \n",
    "                    # 從 waiting 池挑一個 thread 出來\n",
    "                    # 通知其用 acquire 方法, 嘗試取得 mutex\n",
    "                    con.notify() \n",
    "                    \n",
    "                con.release()\n",
    "                time.sleep(1)\n",
    "            ###\n",
    "                \n",
    "class Consumer(threading.Thread):\n",
    "    def run(self):\n",
    "        global cnt\n",
    "        while True:\n",
    "            if con.acquire():\n",
    "                if cnt < 100:\n",
    "                    con.wait()\n",
    "                else:\n",
    "                    cnt -= 30\n",
    "                    msg = f\"{self.name} consume 30 , count = {cnt}\"\n",
    "                    print(msg)\n",
    "                    \n",
    "                    con.notify()\n",
    "                con.release()\n",
    "                time.sleep(1)\n",
    "                \n",
    "                \n",
    "\n",
    "cnt = 500\n",
    "con = threading.Condition()\n",
    "\n",
    "\n",
    "def main():\n",
    "    for i in range(3):\n",
    "        p = Producer()\n",
    "        p.start()\n",
    "        \n",
    "    for j in range(20):\n",
    "        c = Consumer()\n",
    "        c.start()\n",
    "        \n",
    "# main()"
   ]
  },
  {
   "cell_type": "code",
   "execution_count": 50,
   "metadata": {
    "scrolled": true
   },
   "outputs": [
    {
     "name": "stdout",
     "output_type": "stream",
     "text": [
      "counter=10\n",
      "counter=30\n",
      "counter=60\n",
      "The final counter is 60\n"
     ]
    }
   ],
   "source": [
    "### ref: https://www.pythontutorial.net/python-concurrency/python-threading-lock/\n",
    "### Race condition with multi-thread\n",
    "### And using lock (mutex) for critical section \n",
    "import threading , time \n",
    "\n",
    "counter = 0\n",
    "\n",
    "mutex = threading.Lock()\n",
    "\n",
    "def increase(by,lock):\n",
    "    global counter \n",
    "    \n",
    "    \n",
    "    ### 沒有 lock(mutex), counter 值會亂存取 -> race condition 大炸裂\n",
    "#     local_count = counter \n",
    "#     local_count += by \n",
    "\n",
    "#     time.sleep(0.1)\n",
    "\n",
    "#     counter = local_count\n",
    "#     print(f\"counter={counter}\")\n",
    "    \n",
    "    \n",
    "    ### 使用 with 語法, 建構 critical section \n",
    "    with lock:\n",
    "        local_count = counter \n",
    "        local_count += by \n",
    "\n",
    "        time.sleep(0.1)  ## 造成 race condition 的元兇！？ （發生 thread-level 的 context-switch ）\n",
    "\n",
    "        counter = local_count\n",
    "        print(f\"counter={counter}\")\n",
    "    \n",
    "    \n",
    "    ### 使用 lock.acquire() / lock.release() 打造 critical section !!!\n",
    "    ### 有 lock (mutex) 者, 才可進入此區執行\n",
    "#     lock.acquire()\n",
    "#     local_count = counter \n",
    "#     local_count += by \n",
    "    \n",
    "#     time.sleep(0.1)\n",
    "    \n",
    "#     counter = local_count\n",
    "#     print(f\"counter={counter}\")\n",
    "#     lock.release()\n",
    "    \n",
    "\n",
    "t1 = threading.Thread(target=increase,args=(10,mutex))\n",
    "t2 = threading.Thread(target=increase,args=(20,mutex))\n",
    "t3 = threading.Thread(target=increase,args=(30,mutex))\n",
    "\n",
    "t1.start()\n",
    "t2.start()\n",
    "t3.start()\n",
    "\n",
    "\n",
    "t1.join()\n",
    "t2.join()\n",
    "t3.join()\n",
    "\n",
    "print(f\"The final counter is {counter}\")"
   ]
  },
  {
   "cell_type": "code",
   "execution_count": 46,
   "metadata": {
    "scrolled": true
   },
   "outputs": [
    {
     "name": "stdout",
     "output_type": "stream",
     "text": [
      "The final list length: 480\n"
     ]
    }
   ],
   "source": [
    "### 操作 list 引發 race condition 失敗～～～\n",
    "\n",
    "# testqq = []\n",
    "\n",
    "# for i in range(1000):\n",
    "#     testqq.append(1)\n",
    "# print(len(testqq))\n",
    "\n",
    "import threading ,time\n",
    "\n",
    "testqq = []\n",
    "\n",
    "def add_element(cnt):\n",
    "    global testqq \n",
    "    \n",
    "    local_list = testqq\n",
    "    for i in range(cnt):\n",
    "        local_list.append(1)\n",
    "    \n",
    "    time.sleep(0.1)\n",
    "    \n",
    "    testqq = local_list\n",
    "\n",
    "        \n",
    "t1 = threading.Thread(target=add_element,args=(300,))\n",
    "t2 = threading.Thread(target=add_element,args=(180,))\n",
    "\n",
    "t1.start()\n",
    "t2.start()\n",
    "\n",
    "t1.join()\n",
    "t2.join()\n",
    "\n",
    "\n",
    "print(f\"The final list length: {len(testqq)}\")\n",
    "# print(f\"The final list length: {str(total)}\")"
   ]
  }
 ],
 "metadata": {
  "kernelspec": {
   "display_name": "Python 3 (ipykernel)",
   "language": "python",
   "name": "python3"
  },
  "language_info": {
   "codemirror_mode": {
    "name": "ipython",
    "version": 3
   },
   "file_extension": ".py",
   "mimetype": "text/x-python",
   "name": "python",
   "nbconvert_exporter": "python",
   "pygments_lexer": "ipython3",
   "version": "3.9.5"
  }
 },
 "nbformat": 4,
 "nbformat_minor": 2
}
