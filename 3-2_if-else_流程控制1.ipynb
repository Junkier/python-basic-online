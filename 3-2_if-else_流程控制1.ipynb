{
 "cells": [
  {
   "cell_type": "code",
   "execution_count": 12,
   "id": "b83f4f48",
   "metadata": {},
   "outputs": [
    {
     "name": "stdout",
     "output_type": "stream",
     "text": [
      "y 是 0 !!!\n"
     ]
    }
   ],
   "source": [
    "### 流程控制#1 --> if-else\n",
    "\n",
    "## if-else\n",
    "# 宣告 x 變數\n",
    "# x 為正 --> 顯示 \"x 是 正數\"\n",
    "# x 為負 --> 顯示 \"x 是 負數\"\n",
    "# x = 0\n",
    "\n",
    "# if x >0:\n",
    "#     print(\"x 是正數\")  # 縮排\n",
    "#     print(\"-\"*30)\n",
    "#     print(\"嗨嗨 , 我是 Jeff 老師\")\n",
    "# else:\n",
    "#     print(\"x 是負數\")\n",
    "#     c = 123\n",
    "#     d = 456\n",
    "#     print(c+d)\n",
    "#     print(c/d)\n",
    "    \n",
    "# print(\"if-else 結束\")\n",
    "\n",
    "## if - elif - else\n",
    "# 宣告 y 變數\n",
    "# y 為0  --> 顯示 \"y 是 0 !!!\"\n",
    "# y 為正 --> 顯示 \"y 是 正數\"\n",
    "# y 為負 --> 顯示 \"y 是 負數\"\n",
    "\n",
    "y = 0\n",
    "\n",
    "if y == 0:\n",
    "    print(\"y 是 0 !!!\")\n",
    "elif y > 0 :\n",
    "    print(\"y 是 正數\")\n",
    "else:\n",
    "    print(\"y 是 負數\")"
   ]
  },
  {
   "cell_type": "code",
   "execution_count": 17,
   "id": "467cefa5",
   "metadata": {},
   "outputs": [
    {
     "name": "stdout",
     "output_type": "stream",
     "text": [
      "A組 !!!\n",
      "--------------------------------------------------------------------------------\n",
      "請輸入數字:567\n",
      "轉換前 : <class 'str'>\n",
      "轉換後 : <class 'int'>\n",
      "B組 !!!\n"
     ]
    }
   ],
   "source": [
    "### 小試身手 1-1\n",
    "\n",
    "## 1. 宣告變數 a \n",
    "#    a 為 偶數 -> 顯示 \"A組\"\n",
    "#    a 為 奇數 -> 顯示 \"B組\"\n",
    "a = 68\n",
    "\n",
    "# 2,4,6,8,10 --> /2 --> 餘數會 0 --> 它是偶數\n",
    "# 1,3,5,7,9  --> /2 --> 餘數會 1 --> 它是奇數\n",
    "if a%2 ==0:\n",
    "    print(\"A組 !!!\")\n",
    "else:\n",
    "    print(\"B組 !!!\")\n",
    "    \n",
    "print(\"-\"*80)\n",
    "\n",
    "################################################################################################\n",
    "## 2. 請使用者輸入一個數字, 存到變數 b\n",
    "#    判別 b 為 偶數 / 奇數 , 對應顯示 \"A組\" / \"B組\"\n",
    "b = input(\"請輸入數字:\")\n",
    "\n",
    "print(\"轉換前 :\", type(b))\n",
    "\n",
    "# 新的 b = 舊的 b 轉成 int \n",
    "b = int(b)   # 資料型別 轉換成 int\n",
    "\n",
    "print(\"轉換後 :\", type(b))\n",
    "\n",
    "if b%2 ==0:\n",
    "    print(\"A組 !!!\")\n",
    "else:\n",
    "    print(\"B組 !!!\")"
   ]
  },
  {
   "cell_type": "code",
   "execution_count": 21,
   "id": "eabbdf88",
   "metadata": {},
   "outputs": [
    {
     "name": "stdout",
     "output_type": "stream",
     "text": [
      "您的組別是 : 丙組\n"
     ]
    }
   ],
   "source": [
    "### 小試身手 1-2\n",
    "## 依照 number 分數 , 決定 type_name 組別\n",
    "number = 80\n",
    "type_name = \"\"  # 避免用到 type 保留字 \n",
    "\n",
    "if number >= 100:\n",
    "    type_name = \"丁組\"\n",
    "elif number >= 50 and number < 100:  ## 也可以寫成 50 <= number < 100\n",
    "    type_name = \"丙組\"\n",
    "elif number >=0 and number < 50:     ## 也可以寫成 0  <= number < 50b\n",
    "    type_name = \"乙組\"\n",
    "else:\n",
    "    type_name = \"甲組\"\n",
    "\n",
    "print(\"您的組別是 :\" , type_name)"
   ]
  },
  {
   "cell_type": "code",
   "execution_count": 25,
   "id": "795a3bb0",
   "metadata": {},
   "outputs": [
    {
     "name": "stdout",
     "output_type": "stream",
     "text": [
      "您的消費金額為 $500\n"
     ]
    }
   ],
   "source": [
    "### 小試身手 1-3\n",
    "## 依照 age & gender 規則,  顯示對應的金額\n",
    "age = 21\n",
    "gender = \"F\"\n",
    "\n",
    "# 巢狀 if-else\n",
    "if gender == \"F\":\n",
    "    print(\"您的消費金額為 $500\")\n",
    "else:\n",
    "    if age >= 30:\n",
    "        print(\"您的消費金額為 $1,000\")\n",
    "    else:\n",
    "        print(\"您的消費金額為 $700\")"
   ]
  },
  {
   "cell_type": "code",
   "execution_count": 49,
   "id": "6183d9f3",
   "metadata": {},
   "outputs": [
    {
     "name": "stdout",
     "output_type": "stream",
     "text": [
      "此時段收費 2000 元\n"
     ]
    }
   ],
   "source": [
    "### 小試身手 1-4\n",
    "## 根據入園時段的收費金額 , 顯示對應文字\n",
    "## time: 早上 / 下午 / 晚上\n",
    "## season: 春 / 夏 / 秋 / 冬\n",
    "## is_member: True / False\n",
    "time = \"晚上\"\n",
    "season = \"夏\"\n",
    "is_member = False\n",
    "\n",
    "if time == \"早上\":\n",
    "    if season != \"春\":\n",
    "        # 夏 / 秋 / 冬\n",
    "        print(\"目前未開放！！！\")\n",
    "    else:\n",
    "        # 春\n",
    "        if is_member:\n",
    "            print(\"此時段免費！！！\")\n",
    "        else:\n",
    "            print(\"此時段收費 200 元\")\n",
    "elif time == \"下午\":\n",
    "    is_summer_or_autumn = season == \"夏\" or season == \"秋\"\n",
    "    message = \"目前未開放！！！\" if is_summer_or_autumn else \"此時段收費 1000 元\"\n",
    "    print(message)\n",
    "elif time == \"晚上\":\n",
    "    is_summer_or_autumn = season == \"夏\" or season == \"秋\"\n",
    "    message2 = \"此時段收費 2000 元\" if is_summer_or_autumn else \"此時段收費 3500 元\"\n",
    "    print(message2)"
   ]
  }
 ],
 "metadata": {
  "kernelspec": {
   "display_name": "Python 3",
   "language": "python",
   "name": "python3"
  },
  "language_info": {
   "codemirror_mode": {
    "name": "ipython",
    "version": 3
   },
   "file_extension": ".py",
   "mimetype": "text/x-python",
   "name": "python",
   "nbconvert_exporter": "python",
   "pygments_lexer": "ipython3",
   "version": "3.8.8"
  }
 },
 "nbformat": 4,
 "nbformat_minor": 5
}
