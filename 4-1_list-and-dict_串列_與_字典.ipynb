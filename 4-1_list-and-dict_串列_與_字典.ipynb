{
 "cells": [
  {
   "cell_type": "code",
   "execution_count": 1,
   "id": "776fe23e",
   "metadata": {},
   "outputs": [
    {
     "name": "stdout",
     "output_type": "stream",
     "text": [
      "總和 : 595\n",
      "平均 : 85.0\n"
     ]
    }
   ],
   "source": [
    "### 求7位同學 成績的總和 & 平均\n",
    "# 不佳\n",
    "s1 = 55\n",
    "s2 = 99\n",
    "s3 = 71\n",
    "s4 = 100\n",
    "s5 = 99\n",
    "s6 = 75\n",
    "s7 = 96\n",
    "\n",
    "scores_sum = s1 + s2 + s3 + s4 + s5 + s6 + s7\n",
    "scores_age = scores_sum / 7\n",
    "\n",
    "print(\"總和 : {}\".format(scores_sum))\n",
    "print(\"平均 : {}\".format(scores_age))"
   ]
  },
  {
   "cell_type": "code",
   "execution_count": 4,
   "id": "1eea36af",
   "metadata": {},
   "outputs": [
    {
     "name": "stdout",
     "output_type": "stream",
     "text": [
      "<class 'list'>\n",
      "個數 :9\n",
      "總和 :783\n",
      "平均 :87.0\n"
     ]
    }
   ],
   "source": [
    "### 串列 (list)\n",
    "scores = [55,99,71,100,99,75,96,88,100]\n",
    "print( type(scores) )\n",
    "\n",
    "scores_sum2 = sum(scores)   ### sum 為 python 保留字 , sum 計算總合\n",
    "scores_avg2 = scores_sum2 / len(scores)  ### len 計算 list 元素個數\n",
    "\n",
    "print(\"個數 :{}\".format(len(scores)))\n",
    "print(\"總和 :{}\".format(scores_sum2))\n",
    "print(\"平均 :{}\".format(scores_avg2))"
   ]
  },
  {
   "cell_type": "code",
   "execution_count": 16,
   "id": "5fb9eb8d",
   "metadata": {},
   "outputs": [
    {
     "name": "stdout",
     "output_type": "stream",
     "text": [
      "[1, 2, 3, 4, 5]\n",
      "['a', 'b', 'c', 'd', 'e']\n",
      "['嗨嗨', 1234, True, None, [2, 3, 4, 5]]\n",
      "--------------------------------------------------------------------------------\n",
      "c\n",
      "e\n",
      "['c', 'd', 'e']\n",
      "['a', 'b', 'c', 'd']\n",
      "['b', 'c', 'd']\n",
      "['aaa', 'b', 'c', 'd', 'e']\n",
      "['aaa', 'b', 'c', 'd', 'kkkk']\n",
      "['aaa', 'b', 'c', 'd', 'testqq']\n",
      "['aaa', 'b', 'cccc', 'd', 'testqq']\n"
     ]
    }
   ],
   "source": [
    "data1 = [1,2,3,4,5]\n",
    "print(data1)\n",
    "\n",
    "data2 = [\"a\",\"b\",\"c\",\"d\",\"e\"]\n",
    "print(data2)\n",
    "\n",
    "data3 = [\"嗨嗨\",1234,True,None, [2,3,4,5] ]\n",
    "print(data3)\n",
    "\n",
    "print(\"-\"*80)\n",
    "\n",
    "### list 常用方法\n",
    "\n",
    "# 取值 --> 透過 index (索引值 , 從 0 開始)\n",
    "data4 = [\"a\",\"b\",\"c\",\"d\",\"e\"]\n",
    "\n",
    "print(data4[2])  ## 取出 \"c\"\n",
    "print(data4[4])  ## 取出 \"e\"\n",
    "print( data4[2:])  ## 從 index=2 開始抓到結尾 , 取出 子list\n",
    "print( data4[0:4]) ## 從 index=0 開始抓到 index=4 , 但不包含 index=4\n",
    "print( data4[1:4]) ## 從 index=2 開始抓到 index=4 , 但不包含 index=4\n",
    "\n",
    "# 修改值 --> 透過 index\n",
    "data4[0] = \"aaa\"\n",
    "print(data4)\n",
    "\n",
    "data4[4] = \"kkkk\"\n",
    "print(data4)\n",
    "\n",
    "data4[-1] = \"testqq\"  ## index=-1 代表最後一個元素\n",
    "print(data4)\n",
    "\n",
    "# 修改 \"c\" 為 \"cccc\"\n",
    "# data4[2] = \"cccc\"  ## 順向改\n",
    "data4[-3] = \"cccc\"   ## 逆向改\n",
    "print(data4)"
   ]
  },
  {
   "cell_type": "code",
   "execution_count": 24,
   "id": "f44c4991",
   "metadata": {
    "scrolled": true
   },
   "outputs": [
    {
     "name": "stdout",
     "output_type": "stream",
     "text": [
      "['Jeff', 'Leo', 'Keven', 'Holy', 'Jenny']\n",
      "['Jeff', 'Leo', 'Keven', 'Holy', 'Jenny', 'David', 'Elle']\n",
      "['Jeff', 'Leo', 'Keven', 'Holy', 'Jenny', 'David', 'Elle', 123, True, [1, 2, 3, 4]]\n",
      "--------------------------------------------------------------------------------\n",
      "['Jeff', 'Leo', 'Holy', 'Jenny', 'David', 'Elle', 123, True, [1, 2, 3, 4]]\n",
      "['Leo', 'Holy', 'Jenny', 'David', 'Elle', 123, True, [1, 2, 3, 4]]\n",
      "['Leo', 'Holy', 'David', 'Elle', 123, True, [1, 2, 3, 4]]\n",
      "Jenny\n"
     ]
    }
   ],
   "source": [
    "## 新增元素\n",
    "data6 = [\"Jeff\",\"Leo\",\"Keven\",\"Holy\",\"Jenny\"]\n",
    "\n",
    "print(data6)\n",
    "\n",
    "# 使用 .append   (list 資料型別, 內建的 '方法' )\n",
    "data6.append(\"David\")\n",
    "data6.append(\"Elle\")\n",
    "\n",
    "print(data6)\n",
    "\n",
    "data6.append(123)\n",
    "data6.append(True)\n",
    "data6.append([1,2,3,4])\n",
    "\n",
    "print(data6)\n",
    "\n",
    "print(\"-\"*80)\n",
    "\n",
    "## 刪除元素     (list 資料型別, 內建的 '方法' )\n",
    "\n",
    "# 使用 .pop\n",
    "\n",
    "# 拔掉 \"Keven\" (index=2 的資料)\n",
    "data6.pop(2)\n",
    "print(data6)\n",
    "\n",
    "# 拔掉 \"Jeff\"  (index=0 的資料)\n",
    "data6.pop(0)\n",
    "print(data6)\n",
    "\n",
    "name2 = data6.pop(2)  ## 將 idnex=2 元素抓出 , 並存入 name2 變數\n",
    "print(data6)\n",
    "print(name2)"
   ]
  },
  {
   "cell_type": "code",
   "execution_count": 35,
   "id": "81f59844",
   "metadata": {},
   "outputs": [
    {
     "name": "stdout",
     "output_type": "stream",
     "text": [
      "['Jeff', 'Leo', 'Keven', 'Lisa', 'Matty']\n",
      "[97, 93, 68, 85, 100]\n",
      "嗨嗨, 我是 Keven , 成績為 68\n",
      "該梯次平均為 88.6\n",
      "修改 4號同學 成績為 72\n",
      "該梯次新平均為 86.0\n"
     ]
    }
   ],
   "source": [
    "### 小試身手 2-1\n",
    "# a.\n",
    "names = [\"Jeff\",\"Leo\",\"Keven\",\"Lisa\", \"Matty\"]\n",
    "print(names)\n",
    "\n",
    "# b. \n",
    "scores = [97,93,68,85,100]\n",
    "print(scores)\n",
    "\n",
    "# c.\n",
    "print(\"嗨嗨, 我是 {} , 成績為 {}\".format(names[2] , scores[2]))\n",
    "\n",
    "# d.\n",
    "print(\"該梯次平均為 {}\".format( sum(scores) / len(scores) ) )\n",
    "\n",
    "# e.\n",
    "scores[3] = 72\n",
    "print(\"修改 {}號同學 成績為 {}\".format(4 , scores[3]) )\n",
    "\n",
    "# f.\n",
    "print(\"該梯次新平均為 {}\".format( sum(scores) / len(scores) ))"
   ]
  },
  {
   "cell_type": "code",
   "execution_count": null,
   "id": "f680f308",
   "metadata": {},
   "outputs": [],
   "source": []
  },
  {
   "cell_type": "code",
   "execution_count": null,
   "id": "d3a2bcd8",
   "metadata": {},
   "outputs": [],
   "source": []
  },
  {
   "cell_type": "code",
   "execution_count": null,
   "id": "a5223ba0",
   "metadata": {},
   "outputs": [],
   "source": []
  },
  {
   "cell_type": "code",
   "execution_count": null,
   "id": "fac1a481",
   "metadata": {},
   "outputs": [],
   "source": []
  },
  {
   "cell_type": "code",
   "execution_count": null,
   "id": "305266ec",
   "metadata": {},
   "outputs": [],
   "source": []
  },
  {
   "cell_type": "code",
   "execution_count": null,
   "id": "cb99c80f",
   "metadata": {},
   "outputs": [],
   "source": []
  },
  {
   "cell_type": "code",
   "execution_count": null,
   "id": "36073a20",
   "metadata": {},
   "outputs": [],
   "source": []
  },
  {
   "cell_type": "code",
   "execution_count": null,
   "id": "891c573f",
   "metadata": {},
   "outputs": [],
   "source": []
  },
  {
   "cell_type": "code",
   "execution_count": null,
   "id": "205d8947",
   "metadata": {},
   "outputs": [],
   "source": [
    "### 串列 (list)\n",
    "### 無法將資料歸戶\n",
    "scores = [55,99,71,100,99,75,96,88,100]\n",
    "print( type(scores) )\n",
    "\n",
    "scores_sum2 = sum(scores)   ### sum 為 python 保留字 , sum 計算總合\n",
    "scores_avg2 = scores_sum2 / len(scores)  ### len 計算 list 元素個數\n",
    "\n",
    "print(\"個數 :{}\".format(len(scores)))\n",
    "print(\"總和 :{}\".format(scores_sum2))\n",
    "print(\"平均 :{}\".format(scores_avg2))"
   ]
  },
  {
   "cell_type": "code",
   "execution_count": 28,
   "id": "288ed90f",
   "metadata": {},
   "outputs": [
    {
     "name": "stdout",
     "output_type": "stream",
     "text": [
      "學生總和 : 511\n",
      "學生平均 : 85.16666666666667\n"
     ]
    }
   ],
   "source": [
    "### 字典 (dict)\n",
    "scores2 = {\n",
    "    \"Jeff\"  : 55,\n",
    "    \"Leo\"   : 99,\n",
    "    \"Keven\" : 71,\n",
    "    \"Holy\"  : 100,\n",
    "    \"Jenny\" : 99,\n",
    "    \"Elle\"  : 87\n",
    "}\n",
    "\n",
    "print(\"學生總和 : {}\".format( sum(scores2.values()) ))\n",
    "print(\"學生平均 : {}\".format( sum(scores2.values()) / len(scores2) ))"
   ]
  },
  {
   "cell_type": "code",
   "execution_count": 48,
   "id": "385e39a8",
   "metadata": {},
   "outputs": [
    {
     "name": "stdout",
     "output_type": "stream",
     "text": [
      "{'name': 'jeff', 'age': 18, 'message': '嗨嗨', 'others': ['AAA', 'BBB', 'CCC']}\n",
      "<class 'dict'>\n",
      "--------------------------------------------------------------------------------\n",
      "jeff\n",
      "18\n",
      "{'name': 'jeff', 'age': 30, 'message': '下雨哩～～～', 'others': ['AAA', 'BBB', 'CCC']}\n",
      "--------------------------------------------------------------------------------\n",
      "{'name': 'jeff', 'age': 30, 'message': 'Omicron !!!', 'others': ['AAA', 'BBB', 'CCC']}\n",
      "jeff\n",
      "--------------------------------------------------------------------------------\n",
      "{'name': 'jeff', 'age': 30, 'message': 'Omicron !!!', 'others': ['AAA', 'BBB', 'CCC'], 'interest': ['看電影', '打電動', '寫程式'], 'today': '星期六'}\n",
      "--------------------------------------------------------------------------------\n",
      "{'name': 'jeff', 'others': ['AAA', 'BBB', 'CCC'], 'interest': ['看電影', '打電動', '寫程式'], 'today': '星期六'}\n"
     ]
    }
   ],
   "source": [
    "### dict 介紹\n",
    "data7 = {\n",
    "    # key : value\n",
    "    \"name\" : \"jeff\",    # key-value pair 成對資料\n",
    "    \"age\"  : 18 ,       # key 必須為 str , value 可為任意資料型別\n",
    "    \"message\" : \"嗨嗨\",\n",
    "    \"others\"  : [\"AAA\",\"BBB\",\"CCC\"]\n",
    "}\n",
    "print(data7)\n",
    "print(type(data7))\n",
    "print(\"-\"*80)\n",
    "\n",
    "### dict 常用功能\n",
    "\n",
    "# 取值 --> 透過 key 來取 value 值\n",
    "print(data7[\"name\"])  ## 取得 key=name 的 value -> \"jeff\"\n",
    "print(data7[\"age\"])   ## 取得 key=age  的 value -> 18\n",
    "\n",
    "\n",
    "# 修改值 --> 透過 key 來修改 value 值\n",
    "data7[\"message\"] = \"下雨哩～～～\"  ## 修改 key=message 的 value值為 \"下雨哩～～～\"\n",
    "data7[\"age\"] = 30                ## 修改 key=age 的 value值為 30\n",
    "print(data7)\n",
    "\n",
    "print(\"-\"*80)\n",
    "\n",
    "name3 = data7[\"name\"]    ## 抓出 \"jeff\" , 存入 name3 變數\n",
    "data7[\"message\"] = \"Omicron !!!\"  ## 修改 key=message的 value值為 \"Omicron !!!\"\n",
    "\n",
    "print(data7)\n",
    "print(name3)\n",
    "\n",
    "print(\"-\"*80)\n",
    "\n",
    "# 新增值\n",
    "data7[\"interest\"] = [\"看電影\",\"打電動\",\"寫程式\"]  ## key=interest 不在 dict 裡 -> 新增一組 key-value pair\n",
    "data7[\"today\"]    = \"星期六\"                    ## key=today 不在 dict 裡    -> 新增一組 key-value pair\n",
    "print(data7)\n",
    "# data7\n",
    "\n",
    "print(\"-\"*80)\n",
    "\n",
    "# 刪除值\n",
    "del data7[\"age\"]\n",
    "del data7[\"message\"]\n",
    "\n",
    "print(data7)"
   ]
  },
  {
   "cell_type": "code",
   "execution_count": 55,
   "id": "56166359",
   "metadata": {},
   "outputs": [
    {
     "name": "stdout",
     "output_type": "stream",
     "text": [
      "5\n",
      "dict_keys(['name', 'age', 'message', 'others', 'today'])\n",
      "dict_values(['jeff', 18, '嗨嗨', ['AAA', 'BBB', 'CCC'], '星期六'])\n",
      "--------------------------------------------------------------------------------\n",
      "dict_values([55, 99, 71, 100, 99, 87])\n",
      "511\n",
      "學生總和 : 511\n",
      "學生平均 : 85.16666666666667\n"
     ]
    }
   ],
   "source": [
    "data7 = {\n",
    "    # key : value\n",
    "    \"name\" : \"jeff\",    # key-value pair 成對資料\n",
    "    \"age\"  : 18 ,       # key 必須為 str , value 可為任意資料型別\n",
    "    \"message\" : \"嗨嗨\",\n",
    "    \"others\"  : [\"AAA\",\"BBB\",\"CCC\"],\n",
    "    \"today\"   : \"星期六\"\n",
    "}\n",
    "\n",
    "### dict 內建的方法\n",
    "print(len(data7))      # 取得 dict 的長度 （key-value 的組數）\n",
    "print(data7.keys())    # .keys()   --> 取得 key 組成的 list \n",
    "print(data7.values())  # .values() --> 取得 value 組成的 list \n",
    "\n",
    "print(\"-\"*80)\n",
    "\n",
    "### 用 dict 求總和 & 平均\n",
    "scores2 = {\n",
    "    \"Jeff\"  : 55,\n",
    "    \"Leo\"   : 99,\n",
    "    \"Keven\" : 71,\n",
    "    \"Holy\"  : 100,\n",
    "    \"Jenny\" : 99,\n",
    "    \"Elle\"  : 87\n",
    "}\n",
    "\n",
    "print(scores2.values())\n",
    "print( sum(scores2.values()) ) \n",
    "\n",
    "print(\"學生總和 : {}\".format( sum(scores2.values()) ) )\n",
    "print(\"學生平均 : {}\".format( sum(scores2.values()) / len(scores2)) )"
   ]
  },
  {
   "cell_type": "code",
   "execution_count": 59,
   "id": "0a253044",
   "metadata": {},
   "outputs": [
    {
     "name": "stdout",
     "output_type": "stream",
     "text": [
      "嗨嗨 , 我是 Jeff , 階級為 A-\n",
      "修改 Jeff 的身高為 180\n",
      "{'name': 'Jeff', 'height': 180, 'weight': 65, 'age': 26, 'class': 'A-', 'interest': ['喝酒', '爬山', '寫程式', '彈吉他']}\n"
     ]
    }
   ],
   "source": [
    "### 小試身手 2-2\n",
    "\n",
    "# a.\n",
    "data = {\n",
    "    \"name\" : \"Jeff\",\n",
    "    \"height\" : 170,\n",
    "    \"weight\" : 65,\n",
    "    \"age\"    : 26,\n",
    "    \"class\"  : \"A-\",\n",
    "    \"interest\" : [\"喝酒\",\"爬山\",\"寫程式\"]\n",
    "}\n",
    "\n",
    "# b.\n",
    "print(\"嗨嗨 , 我是 {name} , 階級為 {class_name}\".format(name= data[\"name\"],class_name = data[\"class\"]))\n",
    "\n",
    "# c.\n",
    "data[\"height\"] = 180\n",
    "print( \"修改 {name} 的身高為 {new_height}\".format(name= data[\"name\"] , new_height = data[\"height\"]) )\n",
    "\n",
    "# d.\n",
    "# data[\"interest\"] 此時資料即為 [\"喝酒\",\"爬山\",\"寫程式\"]\n",
    "data[\"interest\"].append(\"彈吉他\")\n",
    "print(data)"
   ]
  },
  {
   "cell_type": "code",
   "execution_count": 65,
   "id": "f8ddd6a2",
   "metadata": {},
   "outputs": [
    {
     "name": "stdout",
     "output_type": "stream",
     "text": [
      "100\n",
      "87\n",
      "{'name': 'Jenny', 'no': 4, 'math': 95, 'eng': 100}\n",
      "{'name': 'Jeff', 'no': 1, 'math': 100, 'eng': 87}\n",
      "No : 1 , Name: Jeff , Math : 100 , Eng : 87\n"
     ]
    }
   ],
   "source": [
    "data1 = [85,97,100]\n",
    "data2 = { \"Jeff\" : 85 , \"Leo\" : 97 , \"Keven\" : 100 }\n",
    "\n",
    "### dict in list\n",
    "data3 = [\n",
    "    { \"name\" : \"Jeff\"  , \"no\" : 1 , \"math\" : 100 , \"eng\" : 87 },\n",
    "    { \"name\" : \"Leo\"   , \"no\" : 2 , \"math\" : 67  , \"eng\" : 99 },\n",
    "    { \"name\" : \"Keven\" , \"no\" : 3 , \"math\" : 72  , \"eng\" : 92 },\n",
    "    { \"name\" : \"Jenny\" , \"no\" : 4 , \"math\" : 89  , \"eng\" : 33 },\n",
    "    { \"name\" : \"Holy\"  , \"no\" : 5 , \"math\" : 97  , \"eng\" : 61 }\n",
    "]\n",
    "\n",
    "# data3 --> 一個 list \n",
    "# 抓出 第一筆資料的成績\n",
    "# 此時 data3[0] 就是 { \"name\" : \"Jeff\"  , \"no\" : 1 , \"math\" : 100 , \"eng\" : 87 }\n",
    "math_score = data3[0][\"math\"]\n",
    "eng_score  = data3[0][\"eng\"]\n",
    "print(math_score)\n",
    "print(eng_score)\n",
    "\n",
    "\n",
    "# 修改 Jenny 的 math=95 / eng=100\n",
    "# 此時 data3[3] 就是 { \"name\" : \"Jenny\" , \"no\" : 4 , \"math\" : 89  , \"eng\" : 33 }\n",
    "data3[3][\"math\"] = 95\n",
    "data3[3][\"eng\"]  = 100\n",
    "print(data3[3])\n",
    "\n",
    "### 新手常犯的錯\n",
    "eng_score = data3[0][\"eng\"]\n",
    "# eng_score = data3(0)[\"eng\"] --> XX\n",
    "# eng_score = data3[0][eng]   --> XX\n",
    "# eng_score = data3[\"eng\"][0] --> XX\n",
    "\n",
    "ele = data3[0];\n",
    "print(ele)\n",
    "print(\"No : {} , Name: {} , Math : {} , Eng : {}\".format(ele[\"no\"] , ele[\"name\"], ele[\"math\"] , ele[\"eng\"]))"
   ]
  }
 ],
 "metadata": {
  "kernelspec": {
   "display_name": "Python 3",
   "language": "python",
   "name": "python3"
  },
  "language_info": {
   "codemirror_mode": {
    "name": "ipython",
    "version": 3
   },
   "file_extension": ".py",
   "mimetype": "text/x-python",
   "name": "python",
   "nbconvert_exporter": "python",
   "pygments_lexer": "ipython3",
   "version": "3.8.8"
  }
 },
 "nbformat": 4,
 "nbformat_minor": 5
}
